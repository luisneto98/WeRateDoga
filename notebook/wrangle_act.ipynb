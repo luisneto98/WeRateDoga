{
 "cells": [
  {
   "cell_type": "markdown",
   "metadata": {},
   "source": [
    "# Coleta de Dados WeRateDoga"
   ]
  },
  {
   "cell_type": "code",
   "execution_count": 116,
   "metadata": {},
   "outputs": [
    {
     "name": "stderr",
     "output_type": "stream",
     "text": [
      "/home/luisneto98/anaconda3/lib/python3.6/site-packages/matplotlib/font_manager.py:278: UserWarning: Matplotlib is building the font cache using fc-list. This may take a moment.\n",
      "  'Matplotlib is building the font cache using fc-list. '\n"
     ]
    }
   ],
   "source": [
    "import pandas as pd\n",
    "import requests\n",
    "import tweepy\n",
    "import json\n",
    "import numpy as np\n",
    "from bs4 import BeautifulSoup\n",
    "from operator import itemgetter\n",
    "import seaborn as sns\n",
    "import matplotlib.pyplot as plt"
   ]
  },
  {
   "cell_type": "markdown",
   "metadata": {},
   "source": [
    "## Config tweepy"
   ]
  },
  {
   "cell_type": "code",
   "execution_count": null,
   "metadata": {},
   "outputs": [],
   "source": [
    "consumer_key = ''\n",
    "consumer_secret = ''\n",
    "access_token = ''\n",
    "access_secret = ''\n",
    "\n",
    "auth = tweepy.OAuthHandler(consumer_key, consumer_secret)\n",
    "auth.set_access_token(access_token, access_secret)\n",
    "\n",
    "api = tweepy.API(auth)"
   ]
  },
  {
   "cell_type": "markdown",
   "metadata": {},
   "source": [
    "## Get twitter-archive-enhanced"
   ]
  },
  {
   "cell_type": "code",
   "execution_count": 40,
   "metadata": {},
   "outputs": [],
   "source": [
    "df_tweets =  pd.read_csv(\"../Data/twitter-archive-enhanced.csv\")"
   ]
  },
  {
   "cell_type": "markdown",
   "metadata": {},
   "source": [
    "## Get image_predictions"
   ]
  },
  {
   "cell_type": "code",
   "execution_count": null,
   "metadata": {},
   "outputs": [],
   "source": [
    "url = \" https://d17h27t6h515a5.cloudfront.net/topher/2017/August/599fd2ad_image-predictions/image-predictions.tsv\"\n",
    "r = requests.get(url)\n",
    "with open(\"../Data/image_predictions.tsv\", \"wb\") as code:\n",
    "     code.write(r.content)"
   ]
  },
  {
   "cell_type": "code",
   "execution_count": 41,
   "metadata": {},
   "outputs": [],
   "source": [
    "df_images_predictions = pd.read_csv(\"../Data/image_predictions.tsv\",sep='\\t')"
   ]
  },
  {
   "cell_type": "markdown",
   "metadata": {},
   "source": [
    "## Using tweepy for get tweet data"
   ]
  },
  {
   "cell_type": "code",
   "execution_count": null,
   "metadata": {},
   "outputs": [],
   "source": [
    "data_twitter = []\n",
    "for code in df_images_predictions.tweet_id:\n",
    "    try:\n",
    "        status_data = api.get_status(code,tweet_mode='extended')\n",
    "        data_twitter.append(status_data._json)\n",
    "        print(str(code)+\" - encontrado\")\n",
    "    except:\n",
    "        print(str(code)+\" - não encontrado\")"
   ]
  },
  {
   "cell_type": "markdown",
   "metadata": {},
   "source": [
    "## Save downloaded jsons"
   ]
  },
  {
   "cell_type": "code",
   "execution_count": null,
   "metadata": {},
   "outputs": [],
   "source": [
    "with open(\"../Data/tweet_json.txt\", \"w\") as file:\n",
    "    json.dump(data_twitter,file)\n"
   ]
  },
  {
   "cell_type": "markdown",
   "metadata": {},
   "source": [
    "## Load downloaded jsons"
   ]
  },
  {
   "cell_type": "code",
   "execution_count": 42,
   "metadata": {},
   "outputs": [],
   "source": [
    "with open(\"../Data/tweet_json.txt\") as tweet_json:  \n",
    "    data_tweets_json = json.load(tweet_json)"
   ]
  },
  {
   "cell_type": "markdown",
   "metadata": {},
   "source": [
    "## Creating dictionary downloaded data with tweepy"
   ]
  },
  {
   "cell_type": "code",
   "execution_count": 43,
   "metadata": {},
   "outputs": [],
   "source": [
    "tweets_data = []\n",
    "key = 0\n",
    "for data in data_tweets_json:\n",
    "    tweets_data.append({}) \n",
    "    tweets_data[key]['id'] = data['id']\n",
    "    tweets_data[key]['favorite_count'] = data['favorite_count']\n",
    "    tweets_data[key]['retweet_count'] = data['retweet_count']\n",
    "    key = key+1"
   ]
  },
  {
   "cell_type": "markdown",
   "metadata": {},
   "source": [
    "## Converting dictionary to dataframe"
   ]
  },
  {
   "cell_type": "code",
   "execution_count": 44,
   "metadata": {},
   "outputs": [],
   "source": [
    "df_tweets_data = pd.DataFrame(tweets_data)"
   ]
  },
  {
   "cell_type": "markdown",
   "metadata": {},
   "source": [
    "#### Quality\n",
    "#### `df_tweets` dataframe\n",
    "- Na coluna nome, a falta de informação está sendo preechida com outros valores além de None(\"the\", \"a\")\n",
    "- As colunas retweeted_status_id,retweeted_status_user_id,in_reply_to_status_id e in_reply_to_user_id estão com o tipo float64 causando a perda de informação do valor do id\n",
    "- A coluna source está trazendo toda a informação de uma div\n",
    "- Os valores nulos da coluna expanded_urls estão sendo representados por nan\n",
    "- Na coluna expanded_urls o mesmo url está sendo repetido várias vezes em um mesmo registro\n",
    "- Existem tweets em que o texto começa com RT idicando um retweet\n",
    "- A coluna timestamp não está representando um valor timestamp\n",
    "\n",
    "#### `df_tweets_data` dataframe\n",
    "- Registro faltantes(1457 de 2356)\n",
    "#### Tidiness\n",
    "- As colunas retweeted_status_id,retweeted_status_user_id e retweeted_status_timestamp do df_tweets não são úteis já que não  queremos retweets.\n",
    "- Os dados do dataframe df_tweets_data fazem parte do df_tweets\n",
    "- As colunas doggo, floofer, pupper e puppo respresentam a mesma informação que é o estagio do cão.\n",
    "- O data frame `df_images_predictions` deve ser uma coluna no df_tweets indicando a raça do  cão caso seja possível"
   ]
  },
  {
   "cell_type": "markdown",
   "metadata": {},
   "source": [
    "#### `df_tweets`: Na coluna nome, a falta de informação está sendo preechida com outros valores além de None(\"the\", \"a\",\"an\")"
   ]
  },
  {
   "cell_type": "markdown",
   "metadata": {},
   "source": [
    "#### Define\n",
    "Todos os nomes que foram pegos de forma errada não começam com letra maiúscula, então basta retirar estes e substituir por None."
   ]
  },
  {
   "cell_type": "markdown",
   "metadata": {},
   "source": [
    "#### Code"
   ]
  },
  {
   "cell_type": "code",
   "execution_count": 45,
   "metadata": {},
   "outputs": [
    {
     "name": "stderr",
     "output_type": "stream",
     "text": [
      "/home/luisneto98/anaconda3/lib/python3.6/site-packages/ipykernel_launcher.py:4: SettingWithCopyWarning: \n",
      "A value is trying to be set on a copy of a slice from a DataFrame\n",
      "\n",
      "See the caveats in the documentation: http://pandas.pydata.org/pandas-docs/stable/indexing.html#indexing-view-versus-copy\n",
      "  after removing the cwd from sys.path.\n"
     ]
    }
   ],
   "source": [
    "df_tweets_clean = df_tweets.copy()\n",
    "for key,row in df_tweets_clean.iterrows():\n",
    "    if(row['name'][0].isupper() == False):\n",
    "        df_tweets_clean['name'][key] = 'None'"
   ]
  },
  {
   "cell_type": "markdown",
   "metadata": {},
   "source": [
    "#### Test"
   ]
  },
  {
   "cell_type": "code",
   "execution_count": null,
   "metadata": {},
   "outputs": [],
   "source": [
    "df_tweets_clean.name.value_counts()"
   ]
  },
  {
   "cell_type": "markdown",
   "metadata": {},
   "source": [
    "#### `df_tweets`: As colunas retweeted_status_id,retweeted_status_user_id,in_reply_to_status_id e in_reply_to_user_id estão com o tipo float64 causando a perda de informação do valor do id"
   ]
  },
  {
   "cell_type": "markdown",
   "metadata": {},
   "source": [
    "#### Define\n",
    "alterar o tipo das colunas usando a função .astype() do pandas tomando cuidado com os valores nulo, substituindo estes por -1"
   ]
  },
  {
   "cell_type": "markdown",
   "metadata": {},
   "source": [
    "#### Code"
   ]
  },
  {
   "cell_type": "code",
   "execution_count": 46,
   "metadata": {},
   "outputs": [],
   "source": [
    "df_tweets_clean.retweeted_status_id = df_tweets_clean.retweeted_status_id.fillna(-1).astype(np.int64,copy=False)\n",
    "df_tweets_clean.retweeted_status_user_id = df_tweets_clean.retweeted_status_user_id.fillna(-1).astype(np.int64,copy=False)\n",
    "df_tweets_clean.in_reply_to_status_id = df_tweets_clean.in_reply_to_status_id.fillna(-1).astype(np.int64,copy=False)\n",
    "df_tweets_clean.in_reply_to_user_id = df_tweets_clean.in_reply_to_user_id.fillna(-1).astype(np.int64,copy=False)"
   ]
  },
  {
   "cell_type": "markdown",
   "metadata": {},
   "source": [
    "#### Test"
   ]
  },
  {
   "cell_type": "code",
   "execution_count": null,
   "metadata": {},
   "outputs": [],
   "source": [
    "df_tweets_clean.info()"
   ]
  },
  {
   "cell_type": "code",
   "execution_count": null,
   "metadata": {},
   "outputs": [],
   "source": [
    "df_tweets_clean.in_reply_to_status_id.value_counts()"
   ]
  },
  {
   "cell_type": "code",
   "execution_count": null,
   "metadata": {},
   "outputs": [],
   "source": [
    "df_tweets_clean.in_reply_to_user_id.value_counts()"
   ]
  },
  {
   "cell_type": "code",
   "execution_count": null,
   "metadata": {},
   "outputs": [],
   "source": [
    "df_tweets_clean.retweeted_status_id.value_counts()"
   ]
  },
  {
   "cell_type": "code",
   "execution_count": null,
   "metadata": {},
   "outputs": [],
   "source": [
    "df_tweets_clean.retweeted_status_user_id.value_counts()"
   ]
  },
  {
   "cell_type": "markdown",
   "metadata": {},
   "source": [
    "#### `df_tweets`: A coluna source está trazendo toda a informação de uma div"
   ]
  },
  {
   "cell_type": "markdown",
   "metadata": {},
   "source": [
    "#### Define\n",
    "percorrer todas as linhas e usar o BeautifulSoup para pegar a informação dentro da div"
   ]
  },
  {
   "cell_type": "markdown",
   "metadata": {},
   "source": [
    "#### Code"
   ]
  },
  {
   "cell_type": "code",
   "execution_count": 47,
   "metadata": {},
   "outputs": [],
   "source": [
    "sources = []\n",
    "for source in df_tweets_clean.source:\n",
    "    bs = BeautifulSoup(source,'lxml')\n",
    "    sources.append((bs.find('a').contents[0]))\n",
    "sources\n",
    "df_tweets_clean.source = sources"
   ]
  },
  {
   "cell_type": "markdown",
   "metadata": {},
   "source": [
    "#### Test"
   ]
  },
  {
   "cell_type": "code",
   "execution_count": null,
   "metadata": {},
   "outputs": [],
   "source": [
    "df_tweets_clean.info()"
   ]
  },
  {
   "cell_type": "markdown",
   "metadata": {},
   "source": [
    "#### `df_tweets`: Os valores nulos da coluna expanded_urls estão sendo representados por nan"
   ]
  },
  {
   "cell_type": "markdown",
   "metadata": {},
   "source": [
    "#### Define\n",
    "usar a função fillna para alterar os valores NaN para \"None\""
   ]
  },
  {
   "cell_type": "markdown",
   "metadata": {},
   "source": [
    "#### Code"
   ]
  },
  {
   "cell_type": "code",
   "execution_count": 48,
   "metadata": {},
   "outputs": [],
   "source": [
    "df_tweets_clean.expanded_urls = df_tweets_clean.expanded_urls.fillna('None')"
   ]
  },
  {
   "cell_type": "markdown",
   "metadata": {},
   "source": [
    "#### Test"
   ]
  },
  {
   "cell_type": "code",
   "execution_count": null,
   "metadata": {},
   "outputs": [],
   "source": [
    "df_tweets_clean.info()"
   ]
  },
  {
   "cell_type": "markdown",
   "metadata": {},
   "source": [
    "#### `df_tweets`: Na coluna expanded_urls o mesmo url está sendo repetido várias vezes em um mesmo registro"
   ]
  },
  {
   "cell_type": "markdown",
   "metadata": {},
   "source": [
    "#### Define\n",
    "pecorrer os registros, separar os urls do expanded_urls, retirar os repetidos e atualiizar o registro"
   ]
  },
  {
   "cell_type": "markdown",
   "metadata": {},
   "source": [
    "#### Code"
   ]
  },
  {
   "cell_type": "code",
   "execution_count": 49,
   "metadata": {},
   "outputs": [],
   "source": [
    "urls_list = []\n",
    "for urls in df_tweets_clean.expanded_urls:\n",
    "    urls_list.append((',').join(list(set(urls.split(',')))))\n",
    "df_tweets_clean.expanded_urls = urls_list"
   ]
  },
  {
   "cell_type": "markdown",
   "metadata": {},
   "source": [
    "#### Test"
   ]
  },
  {
   "cell_type": "code",
   "execution_count": null,
   "metadata": {},
   "outputs": [],
   "source": [
    "for urls in df_tweets_clean.expanded_urls:\n",
    "    print(urls)"
   ]
  },
  {
   "cell_type": "markdown",
   "metadata": {},
   "source": [
    "#### `df_tweets`: Existem tweets em que o texto começa com RT idicando um retweet"
   ]
  },
  {
   "cell_type": "markdown",
   "metadata": {},
   "source": [
    "#### Define\n",
    "retirar os dados relativos a RT"
   ]
  },
  {
   "cell_type": "markdown",
   "metadata": {},
   "source": [
    "#### Code"
   ]
  },
  {
   "cell_type": "code",
   "execution_count": 50,
   "metadata": {},
   "outputs": [],
   "source": [
    "for key,row in df_tweets_clean.iterrows():\n",
    "    if(row.text.find('RT') == 0):\n",
    "        df_tweets_clean = df_tweets_clean.drop(key)"
   ]
  },
  {
   "cell_type": "markdown",
   "metadata": {},
   "source": [
    "#### Test"
   ]
  },
  {
   "cell_type": "code",
   "execution_count": null,
   "metadata": {},
   "outputs": [],
   "source": [
    "for key,row in df_tweets_clean.iterrows():\n",
    "    if(row.text.find('RT') == 0):\n",
    "        print(row.text)"
   ]
  },
  {
   "cell_type": "code",
   "execution_count": null,
   "metadata": {},
   "outputs": [],
   "source": [
    "df_tweets_clean.info()"
   ]
  },
  {
   "cell_type": "markdown",
   "metadata": {},
   "source": [
    "#### `df_tweets`: A coluna timestamp não está representando um valor timestamp"
   ]
  },
  {
   "cell_type": "markdown",
   "metadata": {},
   "source": [
    "#### Define\n",
    "transformar os valores da coluna para timestamp"
   ]
  },
  {
   "cell_type": "markdown",
   "metadata": {},
   "source": [
    "#### Code"
   ]
  },
  {
   "cell_type": "code",
   "execution_count": 51,
   "metadata": {},
   "outputs": [],
   "source": [
    "df_tweets_clean.timestamp = df_tweets_clean.timestamp.astype('datetime64[ns]').astype(np.int64)"
   ]
  },
  {
   "cell_type": "markdown",
   "metadata": {},
   "source": [
    "#### Test"
   ]
  },
  {
   "cell_type": "code",
   "execution_count": null,
   "metadata": {},
   "outputs": [],
   "source": [
    "df_tweets_clean.timestamp"
   ]
  },
  {
   "cell_type": "markdown",
   "metadata": {},
   "source": [
    "#### `df_tweets_data`:Registro faltantes(1457 de 2356)"
   ]
  },
  {
   "cell_type": "markdown",
   "metadata": {},
   "source": [
    "#### Define\n",
    "adicionar as linhas faltantes com informações nulas"
   ]
  },
  {
   "cell_type": "markdown",
   "metadata": {},
   "source": [
    "#### Code"
   ]
  },
  {
   "cell_type": "code",
   "execution_count": 52,
   "metadata": {},
   "outputs": [],
   "source": [
    "df_tweets_data_clean = df_tweets_data.copy()\n",
    "for tweet_id in df_tweets_clean.tweet_id:\n",
    "    if(len(df_tweets_data_clean.loc[df_tweets_data_clean.id == tweet_id]) == 0):\n",
    "        df_tweets_data_clean = df_tweets_data_clean.append({'id':tweet_id,'favorite_count':None,'retweet_count':None},ignore_index=True)"
   ]
  },
  {
   "cell_type": "markdown",
   "metadata": {},
   "source": [
    "#### Test"
   ]
  },
  {
   "cell_type": "code",
   "execution_count": null,
   "metadata": {},
   "outputs": [],
   "source": [
    "len(df_tweets_data_clean)"
   ]
  },
  {
   "cell_type": "markdown",
   "metadata": {},
   "source": [
    "#### As colunas retweeted_status_id,retweeted_status_user_id e retweeted_status_timestamp do df_tweets não são úteis já que não  queremos retweets."
   ]
  },
  {
   "cell_type": "markdown",
   "metadata": {},
   "source": [
    "#### Define\n",
    "Retirar as colunas que não são úteis"
   ]
  },
  {
   "cell_type": "markdown",
   "metadata": {},
   "source": [
    "#### Code"
   ]
  },
  {
   "cell_type": "code",
   "execution_count": 53,
   "metadata": {},
   "outputs": [],
   "source": [
    "df_teste = df_tweets_clean.copy()"
   ]
  },
  {
   "cell_type": "code",
   "execution_count": 54,
   "metadata": {},
   "outputs": [],
   "source": [
    "df_teste.drop(['retweeted_status_id'], axis=1, inplace=True,errors='ignore')\n",
    "df_teste.drop(['retweeted_status_user_id'], axis=1, inplace=True,errors='ignore')\n",
    "df_teste.drop(['retweeted_status_timestamp'], axis=1, inplace=True,errors='ignore')"
   ]
  },
  {
   "cell_type": "code",
   "execution_count": 55,
   "metadata": {},
   "outputs": [],
   "source": [
    "df_tweets_clean = df_teste"
   ]
  },
  {
   "cell_type": "markdown",
   "metadata": {},
   "source": [
    "#### Test"
   ]
  },
  {
   "cell_type": "code",
   "execution_count": null,
   "metadata": {},
   "outputs": [],
   "source": [
    "df_tweets_clean.info()"
   ]
  },
  {
   "cell_type": "markdown",
   "metadata": {},
   "source": [
    "#### Os dados do dataframe df_tweets_data fazem parte do df_tweets"
   ]
  },
  {
   "cell_type": "markdown",
   "metadata": {},
   "source": [
    "#### Define\n",
    "Adicionar em df_tweets dos dados de df_tweets_data para cada id relacionado"
   ]
  },
  {
   "cell_type": "markdown",
   "metadata": {},
   "source": [
    "#### Code"
   ]
  },
  {
   "cell_type": "code",
   "execution_count": 56,
   "metadata": {},
   "outputs": [],
   "source": [
    "df_tweets_data_clean.id = df_tweets_data_clean.id.astype(np.int64)\n",
    "df_tweets_data_clean = df_tweets_data_clean.rename(columns={'id':'tweet_id'})"
   ]
  },
  {
   "cell_type": "code",
   "execution_count": 57,
   "metadata": {},
   "outputs": [],
   "source": [
    "df_teste = df_tweets_data_clean.copy()\n",
    "df_teste2 = df_tweets_clean.copy()\n",
    "df_master = pd.merge(df_teste2,df_teste,on='tweet_id',how='left')"
   ]
  },
  {
   "cell_type": "markdown",
   "metadata": {},
   "source": [
    "#### Test"
   ]
  },
  {
   "cell_type": "code",
   "execution_count": null,
   "metadata": {},
   "outputs": [],
   "source": [
    "df_master"
   ]
  },
  {
   "cell_type": "markdown",
   "metadata": {},
   "source": [
    "#### As colunas doggo, floofer, pupper e puppo respresentam a mesma informação que é o estagio do cão."
   ]
  },
  {
   "cell_type": "markdown",
   "metadata": {},
   "source": [
    "#### Define\n",
    "Criar uma coluna que sempre vai possuir o valor de uma das colunas, se alguma estiver preenchida. Para isso, \n",
    "pecorrer o df e criar uma coluna"
   ]
  },
  {
   "cell_type": "markdown",
   "metadata": {},
   "source": [
    "#### Code"
   ]
  },
  {
   "cell_type": "code",
   "execution_count": 58,
   "metadata": {},
   "outputs": [],
   "source": [
    "stage_dog = []\n",
    "for key,row in df_master.iterrows():\n",
    "    if(row.doggo == 'doggo'):\n",
    "        stage_dog.append('doggo')\n",
    "    elif(row.floofer == 'floofer'):\n",
    "        stage_dog.append('floofer')\n",
    "    elif(row.pupper == 'pupper'):\n",
    "        stage_dog.append('pupper')\n",
    "    elif(row.puppo == 'puppo'):\n",
    "        stage_dog.append('puppo')\n",
    "    else:\n",
    "        stage_dog.append(None)\n",
    "df_master['stage_dog'] = stage_dog"
   ]
  },
  {
   "cell_type": "code",
   "execution_count": 59,
   "metadata": {},
   "outputs": [],
   "source": [
    "df_master.drop(['floofer','doggo','pupper','puppo'], axis=1, inplace=True,errors='ignore')"
   ]
  },
  {
   "cell_type": "markdown",
   "metadata": {},
   "source": [
    "#### Test"
   ]
  },
  {
   "cell_type": "code",
   "execution_count": null,
   "metadata": {},
   "outputs": [],
   "source": [
    "df_master.info()"
   ]
  },
  {
   "cell_type": "code",
   "execution_count": null,
   "metadata": {},
   "outputs": [],
   "source": [
    "df_master.stage_dog.value_counts()"
   ]
  },
  {
   "cell_type": "markdown",
   "metadata": {},
   "source": [
    "#### O data frame `df_images_predictions` deve ser uma coluna no df_tweets indicando a raça do  cão caso seja possível"
   ]
  },
  {
   "cell_type": "markdown",
   "metadata": {},
   "source": [
    "#### Define\n",
    "Verificar qual predição mais correta e criar uma coluna com estas no dataframe df_images_predctions, clonar e deletar o resto das informações de previsão. Fazer o merge com o master"
   ]
  },
  {
   "cell_type": "markdown",
   "metadata": {},
   "source": [
    "#### Code"
   ]
  },
  {
   "cell_type": "code",
   "execution_count": 60,
   "metadata": {},
   "outputs": [],
   "source": [
    "breed = []\n",
    "df_images_predictions_clean = df_images_predictions.copy()\n",
    "for key,row in df_images_predictions_clean.iterrows():\n",
    "    reliability = 0\n",
    "    dog = None\n",
    "    if(reliability < row.p1_conf and row.p1_dog):\n",
    "        dog = row.p1;\n",
    "        reliability = row.p1_conf\n",
    "    elif(reliability < row.p2_conf and row.p2_dog):\n",
    "        dog = row.p2;\n",
    "        reliability = row.p2_conf\n",
    "    elif(reliability < row.p3_conf and row.p3_dog):\n",
    "        dog = row.p3;\n",
    "        reliability = row.p3_conf\n",
    "    breed.append(dog)"
   ]
  },
  {
   "cell_type": "code",
   "execution_count": 61,
   "metadata": {},
   "outputs": [],
   "source": [
    "df_images_predictions_clean['breed'] = breed;"
   ]
  },
  {
   "cell_type": "code",
   "execution_count": 62,
   "metadata": {},
   "outputs": [],
   "source": [
    "df_images_predictions_clean.drop(['p1','p2','p3','p1_conf','p2_conf','p3_conf','p1_dog','p2_dog','p3_dog','jpg_url','img_num'], axis=1, inplace=True,errors='ignore')\n",
    "df_master = pd.merge(df_master,df_images_predictions_clean,on='tweet_id',how='left')"
   ]
  },
  {
   "cell_type": "markdown",
   "metadata": {},
   "source": [
    "#### Test"
   ]
  },
  {
   "cell_type": "code",
   "execution_count": 65,
   "metadata": {},
   "outputs": [
    {
     "data": {
      "text/html": [
       "<div>\n",
       "<style scoped>\n",
       "    .dataframe tbody tr th:only-of-type {\n",
       "        vertical-align: middle;\n",
       "    }\n",
       "\n",
       "    .dataframe tbody tr th {\n",
       "        vertical-align: top;\n",
       "    }\n",
       "\n",
       "    .dataframe thead th {\n",
       "        text-align: right;\n",
       "    }\n",
       "</style>\n",
       "<table border=\"1\" class=\"dataframe\">\n",
       "  <thead>\n",
       "    <tr style=\"text-align: right;\">\n",
       "      <th></th>\n",
       "      <th>tweet_id</th>\n",
       "      <th>in_reply_to_status_id</th>\n",
       "      <th>in_reply_to_user_id</th>\n",
       "      <th>timestamp</th>\n",
       "      <th>source</th>\n",
       "      <th>text</th>\n",
       "      <th>expanded_urls</th>\n",
       "      <th>rating_numerator</th>\n",
       "      <th>rating_denominator</th>\n",
       "      <th>name</th>\n",
       "      <th>favorite_count</th>\n",
       "      <th>retweet_count</th>\n",
       "      <th>stage_dog</th>\n",
       "      <th>breed</th>\n",
       "    </tr>\n",
       "  </thead>\n",
       "  <tbody>\n",
       "    <tr>\n",
       "      <th>0</th>\n",
       "      <td>892420643555336193</td>\n",
       "      <td>-1</td>\n",
       "      <td>-1</td>\n",
       "      <td>1501604636000000000</td>\n",
       "      <td>Twitter for iPhone</td>\n",
       "      <td>This is Phineas. He's a mystical boy. Only eve...</td>\n",
       "      <td>https://twitter.com/dog_rates/status/892420643...</td>\n",
       "      <td>13</td>\n",
       "      <td>10</td>\n",
       "      <td>Phineas</td>\n",
       "      <td>NaN</td>\n",
       "      <td>NaN</td>\n",
       "      <td>None</td>\n",
       "      <td>None</td>\n",
       "    </tr>\n",
       "    <tr>\n",
       "      <th>1</th>\n",
       "      <td>892177421306343426</td>\n",
       "      <td>-1</td>\n",
       "      <td>-1</td>\n",
       "      <td>1501546647000000000</td>\n",
       "      <td>Twitter for iPhone</td>\n",
       "      <td>This is Tilly. She's just checking pup on you....</td>\n",
       "      <td>https://twitter.com/dog_rates/status/892177421...</td>\n",
       "      <td>13</td>\n",
       "      <td>10</td>\n",
       "      <td>Tilly</td>\n",
       "      <td>NaN</td>\n",
       "      <td>NaN</td>\n",
       "      <td>None</td>\n",
       "      <td>Chihuahua</td>\n",
       "    </tr>\n",
       "    <tr>\n",
       "      <th>2</th>\n",
       "      <td>891815181378084864</td>\n",
       "      <td>-1</td>\n",
       "      <td>-1</td>\n",
       "      <td>1501460283000000000</td>\n",
       "      <td>Twitter for iPhone</td>\n",
       "      <td>This is Archie. He is a rare Norwegian Pouncin...</td>\n",
       "      <td>https://twitter.com/dog_rates/status/891815181...</td>\n",
       "      <td>12</td>\n",
       "      <td>10</td>\n",
       "      <td>Archie</td>\n",
       "      <td>24671.0</td>\n",
       "      <td>4090.0</td>\n",
       "      <td>None</td>\n",
       "      <td>Chihuahua</td>\n",
       "    </tr>\n",
       "    <tr>\n",
       "      <th>3</th>\n",
       "      <td>891689557279858688</td>\n",
       "      <td>-1</td>\n",
       "      <td>-1</td>\n",
       "      <td>1501430331000000000</td>\n",
       "      <td>Twitter for iPhone</td>\n",
       "      <td>This is Darla. She commenced a snooze mid meal...</td>\n",
       "      <td>https://twitter.com/dog_rates/status/891689557...</td>\n",
       "      <td>13</td>\n",
       "      <td>10</td>\n",
       "      <td>Darla</td>\n",
       "      <td>41545.0</td>\n",
       "      <td>8507.0</td>\n",
       "      <td>None</td>\n",
       "      <td>Labrador_retriever</td>\n",
       "    </tr>\n",
       "    <tr>\n",
       "      <th>4</th>\n",
       "      <td>891327558926688256</td>\n",
       "      <td>-1</td>\n",
       "      <td>-1</td>\n",
       "      <td>1501344024000000000</td>\n",
       "      <td>Twitter for iPhone</td>\n",
       "      <td>This is Franklin. He would like you to stop ca...</td>\n",
       "      <td>https://twitter.com/dog_rates/status/891327558...</td>\n",
       "      <td>12</td>\n",
       "      <td>10</td>\n",
       "      <td>Franklin</td>\n",
       "      <td>39726.0</td>\n",
       "      <td>9216.0</td>\n",
       "      <td>None</td>\n",
       "      <td>basset</td>\n",
       "    </tr>\n",
       "    <tr>\n",
       "      <th>5</th>\n",
       "      <td>891087950875897856</td>\n",
       "      <td>-1</td>\n",
       "      <td>-1</td>\n",
       "      <td>1501286897000000000</td>\n",
       "      <td>Twitter for iPhone</td>\n",
       "      <td>Here we have a majestic great white breaching ...</td>\n",
       "      <td>https://twitter.com/dog_rates/status/891087950...</td>\n",
       "      <td>13</td>\n",
       "      <td>10</td>\n",
       "      <td>None</td>\n",
       "      <td>19942.0</td>\n",
       "      <td>3064.0</td>\n",
       "      <td>None</td>\n",
       "      <td>Chesapeake_Bay_retriever</td>\n",
       "    </tr>\n",
       "    <tr>\n",
       "      <th>6</th>\n",
       "      <td>890971913173991426</td>\n",
       "      <td>-1</td>\n",
       "      <td>-1</td>\n",
       "      <td>1501259232000000000</td>\n",
       "      <td>Twitter for iPhone</td>\n",
       "      <td>Meet Jax. He enjoys ice cream so much he gets ...</td>\n",
       "      <td>https://twitter.com/dog_rates/status/890971913...</td>\n",
       "      <td>13</td>\n",
       "      <td>10</td>\n",
       "      <td>Jax</td>\n",
       "      <td>NaN</td>\n",
       "      <td>NaN</td>\n",
       "      <td>None</td>\n",
       "      <td>Appenzeller</td>\n",
       "    </tr>\n",
       "    <tr>\n",
       "      <th>7</th>\n",
       "      <td>890729181411237888</td>\n",
       "      <td>-1</td>\n",
       "      <td>-1</td>\n",
       "      <td>1501201360000000000</td>\n",
       "      <td>Twitter for iPhone</td>\n",
       "      <td>When you watch your owner call another dog a g...</td>\n",
       "      <td>https://twitter.com/dog_rates/status/890729181...</td>\n",
       "      <td>13</td>\n",
       "      <td>10</td>\n",
       "      <td>None</td>\n",
       "      <td>64484.0</td>\n",
       "      <td>18578.0</td>\n",
       "      <td>None</td>\n",
       "      <td>Pomeranian</td>\n",
       "    </tr>\n",
       "    <tr>\n",
       "      <th>8</th>\n",
       "      <td>890609185150312448</td>\n",
       "      <td>-1</td>\n",
       "      <td>-1</td>\n",
       "      <td>1501172751000000000</td>\n",
       "      <td>Twitter for iPhone</td>\n",
       "      <td>This is Zoey. She doesn't want to be one of th...</td>\n",
       "      <td>https://twitter.com/dog_rates/status/890609185...</td>\n",
       "      <td>13</td>\n",
       "      <td>10</td>\n",
       "      <td>Zoey</td>\n",
       "      <td>27405.0</td>\n",
       "      <td>4206.0</td>\n",
       "      <td>None</td>\n",
       "      <td>Irish_terrier</td>\n",
       "    </tr>\n",
       "    <tr>\n",
       "      <th>9</th>\n",
       "      <td>890240255349198849</td>\n",
       "      <td>-1</td>\n",
       "      <td>-1</td>\n",
       "      <td>1501084791000000000</td>\n",
       "      <td>Twitter for iPhone</td>\n",
       "      <td>This is Cassie. She is a college pup. Studying...</td>\n",
       "      <td>https://twitter.com/dog_rates/status/890240255...</td>\n",
       "      <td>14</td>\n",
       "      <td>10</td>\n",
       "      <td>Cassie</td>\n",
       "      <td>NaN</td>\n",
       "      <td>NaN</td>\n",
       "      <td>doggo</td>\n",
       "      <td>Pembroke</td>\n",
       "    </tr>\n",
       "    <tr>\n",
       "      <th>10</th>\n",
       "      <td>890006608113172480</td>\n",
       "      <td>-1</td>\n",
       "      <td>-1</td>\n",
       "      <td>1501029085000000000</td>\n",
       "      <td>Twitter for iPhone</td>\n",
       "      <td>This is Koda. He is a South Australian decksha...</td>\n",
       "      <td>https://twitter.com/dog_rates/status/890006608...</td>\n",
       "      <td>13</td>\n",
       "      <td>10</td>\n",
       "      <td>Koda</td>\n",
       "      <td>30238.0</td>\n",
       "      <td>7219.0</td>\n",
       "      <td>None</td>\n",
       "      <td>Samoyed</td>\n",
       "    </tr>\n",
       "    <tr>\n",
       "      <th>11</th>\n",
       "      <td>889880896479866881</td>\n",
       "      <td>-1</td>\n",
       "      <td>-1</td>\n",
       "      <td>1500999113000000000</td>\n",
       "      <td>Twitter for iPhone</td>\n",
       "      <td>This is Bruno. He is a service shark. Only get...</td>\n",
       "      <td>https://twitter.com/dog_rates/status/889880896...</td>\n",
       "      <td>13</td>\n",
       "      <td>10</td>\n",
       "      <td>Bruno</td>\n",
       "      <td>NaN</td>\n",
       "      <td>NaN</td>\n",
       "      <td>None</td>\n",
       "      <td>French_bulldog</td>\n",
       "    </tr>\n",
       "    <tr>\n",
       "      <th>12</th>\n",
       "      <td>889665388333682689</td>\n",
       "      <td>-1</td>\n",
       "      <td>-1</td>\n",
       "      <td>1500947732000000000</td>\n",
       "      <td>Twitter for iPhone</td>\n",
       "      <td>Here's a puppo that seems to be on the fence a...</td>\n",
       "      <td>https://twitter.com/dog_rates/status/889665388...</td>\n",
       "      <td>13</td>\n",
       "      <td>10</td>\n",
       "      <td>None</td>\n",
       "      <td>NaN</td>\n",
       "      <td>NaN</td>\n",
       "      <td>puppo</td>\n",
       "      <td>Pembroke</td>\n",
       "    </tr>\n",
       "    <tr>\n",
       "      <th>13</th>\n",
       "      <td>889638837579907072</td>\n",
       "      <td>-1</td>\n",
       "      <td>-1</td>\n",
       "      <td>1500941402000000000</td>\n",
       "      <td>Twitter for iPhone</td>\n",
       "      <td>This is Ted. He does his best. Sometimes that'...</td>\n",
       "      <td>https://twitter.com/dog_rates/status/889638837...</td>\n",
       "      <td>12</td>\n",
       "      <td>10</td>\n",
       "      <td>Ted</td>\n",
       "      <td>26780.0</td>\n",
       "      <td>4475.0</td>\n",
       "      <td>None</td>\n",
       "      <td>French_bulldog</td>\n",
       "    </tr>\n",
       "    <tr>\n",
       "      <th>14</th>\n",
       "      <td>889531135344209921</td>\n",
       "      <td>-1</td>\n",
       "      <td>-1</td>\n",
       "      <td>1500915724000000000</td>\n",
       "      <td>Twitter for iPhone</td>\n",
       "      <td>This is Stuart. He's sporting his favorite fan...</td>\n",
       "      <td>https://twitter.com/dog_rates/status/889531135...</td>\n",
       "      <td>13</td>\n",
       "      <td>10</td>\n",
       "      <td>Stuart</td>\n",
       "      <td>NaN</td>\n",
       "      <td>NaN</td>\n",
       "      <td>puppo</td>\n",
       "      <td>golden_retriever</td>\n",
       "    </tr>\n",
       "    <tr>\n",
       "      <th>15</th>\n",
       "      <td>889278841981685760</td>\n",
       "      <td>-1</td>\n",
       "      <td>-1</td>\n",
       "      <td>1500855572000000000</td>\n",
       "      <td>Twitter for iPhone</td>\n",
       "      <td>This is Oliver. You're witnessing one of his m...</td>\n",
       "      <td>https://twitter.com/dog_rates/status/889278841...</td>\n",
       "      <td>13</td>\n",
       "      <td>10</td>\n",
       "      <td>Oliver</td>\n",
       "      <td>24891.0</td>\n",
       "      <td>5291.0</td>\n",
       "      <td>None</td>\n",
       "      <td>whippet</td>\n",
       "    </tr>\n",
       "    <tr>\n",
       "      <th>16</th>\n",
       "      <td>888917238123831296</td>\n",
       "      <td>-1</td>\n",
       "      <td>-1</td>\n",
       "      <td>1500769359000000000</td>\n",
       "      <td>Twitter for iPhone</td>\n",
       "      <td>This is Jim. He found a fren. Taught him how t...</td>\n",
       "      <td>https://twitter.com/dog_rates/status/888917238...</td>\n",
       "      <td>12</td>\n",
       "      <td>10</td>\n",
       "      <td>Jim</td>\n",
       "      <td>28673.0</td>\n",
       "      <td>4422.0</td>\n",
       "      <td>None</td>\n",
       "      <td>golden_retriever</td>\n",
       "    </tr>\n",
       "    <tr>\n",
       "      <th>17</th>\n",
       "      <td>888804989199671297</td>\n",
       "      <td>-1</td>\n",
       "      <td>-1</td>\n",
       "      <td>1500742597000000000</td>\n",
       "      <td>Twitter for iPhone</td>\n",
       "      <td>This is Zeke. He has a new stick. Very proud o...</td>\n",
       "      <td>https://twitter.com/dog_rates/status/888804989...</td>\n",
       "      <td>13</td>\n",
       "      <td>10</td>\n",
       "      <td>Zeke</td>\n",
       "      <td>NaN</td>\n",
       "      <td>NaN</td>\n",
       "      <td>None</td>\n",
       "      <td>golden_retriever</td>\n",
       "    </tr>\n",
       "    <tr>\n",
       "      <th>18</th>\n",
       "      <td>888554962724278272</td>\n",
       "      <td>-1</td>\n",
       "      <td>-1</td>\n",
       "      <td>1500682986000000000</td>\n",
       "      <td>Twitter for iPhone</td>\n",
       "      <td>This is Ralphus. He's powering up. Attempting ...</td>\n",
       "      <td>https://twitter.com/dog_rates/status/888554962...</td>\n",
       "      <td>13</td>\n",
       "      <td>10</td>\n",
       "      <td>Ralphus</td>\n",
       "      <td>19547.0</td>\n",
       "      <td>3493.0</td>\n",
       "      <td>None</td>\n",
       "      <td>Siberian_husky</td>\n",
       "    </tr>\n",
       "    <tr>\n",
       "      <th>19</th>\n",
       "      <td>888078434458587136</td>\n",
       "      <td>-1</td>\n",
       "      <td>-1</td>\n",
       "      <td>1500569373000000000</td>\n",
       "      <td>Twitter for iPhone</td>\n",
       "      <td>This is Gerald. He was just told he didn't get...</td>\n",
       "      <td>https://twitter.com/dog_rates/status/888078434...</td>\n",
       "      <td>12</td>\n",
       "      <td>10</td>\n",
       "      <td>Gerald</td>\n",
       "      <td>21448.0</td>\n",
       "      <td>3445.0</td>\n",
       "      <td>None</td>\n",
       "      <td>French_bulldog</td>\n",
       "    </tr>\n",
       "    <tr>\n",
       "      <th>20</th>\n",
       "      <td>887705289381826560</td>\n",
       "      <td>-1</td>\n",
       "      <td>-1</td>\n",
       "      <td>1500480408000000000</td>\n",
       "      <td>Twitter for iPhone</td>\n",
       "      <td>This is Jeffrey. He has a monopoly on the pool...</td>\n",
       "      <td>https://twitter.com/dog_rates/status/887705289...</td>\n",
       "      <td>13</td>\n",
       "      <td>10</td>\n",
       "      <td>Jeffrey</td>\n",
       "      <td>29746.0</td>\n",
       "      <td>5305.0</td>\n",
       "      <td>None</td>\n",
       "      <td>basset</td>\n",
       "    </tr>\n",
       "    <tr>\n",
       "      <th>21</th>\n",
       "      <td>887517139158093824</td>\n",
       "      <td>-1</td>\n",
       "      <td>-1</td>\n",
       "      <td>1500435549000000000</td>\n",
       "      <td>Twitter for iPhone</td>\n",
       "      <td>I've yet to rate a Venezuelan Hover Wiener. Th...</td>\n",
       "      <td>https://twitter.com/dog_rates/status/887517139...</td>\n",
       "      <td>14</td>\n",
       "      <td>10</td>\n",
       "      <td>None</td>\n",
       "      <td>45609.0</td>\n",
       "      <td>11491.0</td>\n",
       "      <td>None</td>\n",
       "      <td>None</td>\n",
       "    </tr>\n",
       "    <tr>\n",
       "      <th>22</th>\n",
       "      <td>887473957103951883</td>\n",
       "      <td>-1</td>\n",
       "      <td>-1</td>\n",
       "      <td>1500425254000000000</td>\n",
       "      <td>Twitter for iPhone</td>\n",
       "      <td>This is Canela. She attempted some fancy porch...</td>\n",
       "      <td>https://twitter.com/dog_rates/status/887473957...</td>\n",
       "      <td>13</td>\n",
       "      <td>10</td>\n",
       "      <td>Canela</td>\n",
       "      <td>NaN</td>\n",
       "      <td>NaN</td>\n",
       "      <td>None</td>\n",
       "      <td>Pembroke</td>\n",
       "    </tr>\n",
       "    <tr>\n",
       "      <th>23</th>\n",
       "      <td>887343217045368832</td>\n",
       "      <td>-1</td>\n",
       "      <td>-1</td>\n",
       "      <td>1500394083000000000</td>\n",
       "      <td>Twitter for iPhone</td>\n",
       "      <td>You may not have known you needed to see this ...</td>\n",
       "      <td>https://twitter.com/dog_rates/status/887343217...</td>\n",
       "      <td>13</td>\n",
       "      <td>10</td>\n",
       "      <td>None</td>\n",
       "      <td>33204.0</td>\n",
       "      <td>10246.0</td>\n",
       "      <td>None</td>\n",
       "      <td>Mexican_hairless</td>\n",
       "    </tr>\n",
       "    <tr>\n",
       "      <th>24</th>\n",
       "      <td>887101392804085760</td>\n",
       "      <td>-1</td>\n",
       "      <td>-1</td>\n",
       "      <td>1500336428000000000</td>\n",
       "      <td>Twitter for iPhone</td>\n",
       "      <td>This... is a Jubilant Antarctic House Bear. We...</td>\n",
       "      <td>https://twitter.com/dog_rates/status/887101392...</td>\n",
       "      <td>12</td>\n",
       "      <td>10</td>\n",
       "      <td>None</td>\n",
       "      <td>30134.0</td>\n",
       "      <td>5875.0</td>\n",
       "      <td>None</td>\n",
       "      <td>Samoyed</td>\n",
       "    </tr>\n",
       "    <tr>\n",
       "      <th>25</th>\n",
       "      <td>886983233522544640</td>\n",
       "      <td>-1</td>\n",
       "      <td>-1</td>\n",
       "      <td>1500308256000000000</td>\n",
       "      <td>Twitter for iPhone</td>\n",
       "      <td>This is Maya. She's very shy. Rarely leaves he...</td>\n",
       "      <td>https://twitter.com/dog_rates/status/886983233...</td>\n",
       "      <td>13</td>\n",
       "      <td>10</td>\n",
       "      <td>Maya</td>\n",
       "      <td>34665.0</td>\n",
       "      <td>7656.0</td>\n",
       "      <td>None</td>\n",
       "      <td>Chihuahua</td>\n",
       "    </tr>\n",
       "    <tr>\n",
       "      <th>26</th>\n",
       "      <td>886736880519319552</td>\n",
       "      <td>-1</td>\n",
       "      <td>-1</td>\n",
       "      <td>1500249521000000000</td>\n",
       "      <td>Twitter for iPhone</td>\n",
       "      <td>This is Mingus. He's a wonderful father to his...</td>\n",
       "      <td>https://www.gofundme.com/mingusneedsus,https:/...</td>\n",
       "      <td>13</td>\n",
       "      <td>10</td>\n",
       "      <td>Mingus</td>\n",
       "      <td>11876.0</td>\n",
       "      <td>3232.0</td>\n",
       "      <td>None</td>\n",
       "      <td>kuvasz</td>\n",
       "    </tr>\n",
       "    <tr>\n",
       "      <th>27</th>\n",
       "      <td>886680336477933568</td>\n",
       "      <td>-1</td>\n",
       "      <td>-1</td>\n",
       "      <td>1500236040000000000</td>\n",
       "      <td>Twitter for iPhone</td>\n",
       "      <td>This is Derek. He's late for a dog meeting. 13...</td>\n",
       "      <td>https://twitter.com/dog_rates/status/886680336...</td>\n",
       "      <td>13</td>\n",
       "      <td>10</td>\n",
       "      <td>Derek</td>\n",
       "      <td>22117.0</td>\n",
       "      <td>4395.0</td>\n",
       "      <td>None</td>\n",
       "      <td>None</td>\n",
       "    </tr>\n",
       "    <tr>\n",
       "      <th>28</th>\n",
       "      <td>886366144734445568</td>\n",
       "      <td>-1</td>\n",
       "      <td>-1</td>\n",
       "      <td>1500161131000000000</td>\n",
       "      <td>Twitter for iPhone</td>\n",
       "      <td>This is Roscoe. Another pupper fallen victim t...</td>\n",
       "      <td>https://twitter.com/dog_rates/status/886366144...</td>\n",
       "      <td>12</td>\n",
       "      <td>10</td>\n",
       "      <td>Roscoe</td>\n",
       "      <td>20881.0</td>\n",
       "      <td>3152.0</td>\n",
       "      <td>pupper</td>\n",
       "      <td>French_bulldog</td>\n",
       "    </tr>\n",
       "    <tr>\n",
       "      <th>29</th>\n",
       "      <td>886267009285017600</td>\n",
       "      <td>886266357075128320</td>\n",
       "      <td>2281181600</td>\n",
       "      <td>1500137495000000000</td>\n",
       "      <td>Twitter for iPhone</td>\n",
       "      <td>@NonWhiteHat @MayhewMayhem omg hello tanner yo...</td>\n",
       "      <td>None</td>\n",
       "      <td>12</td>\n",
       "      <td>10</td>\n",
       "      <td>None</td>\n",
       "      <td>NaN</td>\n",
       "      <td>NaN</td>\n",
       "      <td>None</td>\n",
       "      <td>NaN</td>\n",
       "    </tr>\n",
       "    <tr>\n",
       "      <th>...</th>\n",
       "      <td>...</td>\n",
       "      <td>...</td>\n",
       "      <td>...</td>\n",
       "      <td>...</td>\n",
       "      <td>...</td>\n",
       "      <td>...</td>\n",
       "      <td>...</td>\n",
       "      <td>...</td>\n",
       "      <td>...</td>\n",
       "      <td>...</td>\n",
       "      <td>...</td>\n",
       "      <td>...</td>\n",
       "      <td>...</td>\n",
       "      <td>...</td>\n",
       "    </tr>\n",
       "    <tr>\n",
       "      <th>2143</th>\n",
       "      <td>666411507551481857</td>\n",
       "      <td>-1</td>\n",
       "      <td>-1</td>\n",
       "      <td>1447719859000000000</td>\n",
       "      <td>Twitter for iPhone</td>\n",
       "      <td>This is quite the dog. Gets really excited whe...</td>\n",
       "      <td>https://twitter.com/dog_rates/status/666411507...</td>\n",
       "      <td>2</td>\n",
       "      <td>10</td>\n",
       "      <td>None</td>\n",
       "      <td>NaN</td>\n",
       "      <td>NaN</td>\n",
       "      <td>None</td>\n",
       "      <td>None</td>\n",
       "    </tr>\n",
       "    <tr>\n",
       "      <th>2144</th>\n",
       "      <td>666407126856765440</td>\n",
       "      <td>-1</td>\n",
       "      <td>-1</td>\n",
       "      <td>1447718814000000000</td>\n",
       "      <td>Twitter for iPhone</td>\n",
       "      <td>This is a southern Vesuvius bumblegruff. Can d...</td>\n",
       "      <td>https://twitter.com/dog_rates/status/666407126...</td>\n",
       "      <td>7</td>\n",
       "      <td>10</td>\n",
       "      <td>None</td>\n",
       "      <td>106.0</td>\n",
       "      <td>40.0</td>\n",
       "      <td>None</td>\n",
       "      <td>black-and-tan_coonhound</td>\n",
       "    </tr>\n",
       "    <tr>\n",
       "      <th>2145</th>\n",
       "      <td>666396247373291520</td>\n",
       "      <td>-1</td>\n",
       "      <td>-1</td>\n",
       "      <td>1447716221000000000</td>\n",
       "      <td>Twitter for iPhone</td>\n",
       "      <td>Oh goodness. A super rare northeast Qdoba kang...</td>\n",
       "      <td>https://twitter.com/dog_rates/status/666396247...</td>\n",
       "      <td>9</td>\n",
       "      <td>10</td>\n",
       "      <td>None</td>\n",
       "      <td>167.0</td>\n",
       "      <td>84.0</td>\n",
       "      <td>None</td>\n",
       "      <td>Chihuahua</td>\n",
       "    </tr>\n",
       "    <tr>\n",
       "      <th>2146</th>\n",
       "      <td>666373753744588802</td>\n",
       "      <td>-1</td>\n",
       "      <td>-1</td>\n",
       "      <td>1447710858000000000</td>\n",
       "      <td>Twitter for iPhone</td>\n",
       "      <td>Those are sunglasses and a jean jacket. 11/10 ...</td>\n",
       "      <td>https://twitter.com/dog_rates/status/666373753...</td>\n",
       "      <td>11</td>\n",
       "      <td>10</td>\n",
       "      <td>None</td>\n",
       "      <td>NaN</td>\n",
       "      <td>NaN</td>\n",
       "      <td>None</td>\n",
       "      <td>soft-coated_wheaten_terrier</td>\n",
       "    </tr>\n",
       "    <tr>\n",
       "      <th>2147</th>\n",
       "      <td>666362758909284353</td>\n",
       "      <td>-1</td>\n",
       "      <td>-1</td>\n",
       "      <td>1447708236000000000</td>\n",
       "      <td>Twitter for iPhone</td>\n",
       "      <td>Unique dog here. Very small. Lives in containe...</td>\n",
       "      <td>https://twitter.com/dog_rates/status/666362758...</td>\n",
       "      <td>6</td>\n",
       "      <td>10</td>\n",
       "      <td>None</td>\n",
       "      <td>NaN</td>\n",
       "      <td>NaN</td>\n",
       "      <td>None</td>\n",
       "      <td>None</td>\n",
       "    </tr>\n",
       "    <tr>\n",
       "      <th>2148</th>\n",
       "      <td>666353288456101888</td>\n",
       "      <td>-1</td>\n",
       "      <td>-1</td>\n",
       "      <td>1447705978000000000</td>\n",
       "      <td>Twitter for iPhone</td>\n",
       "      <td>Here we have a mixed Asiago from the Galápagos...</td>\n",
       "      <td>https://twitter.com/dog_rates/status/666353288...</td>\n",
       "      <td>8</td>\n",
       "      <td>10</td>\n",
       "      <td>None</td>\n",
       "      <td>217.0</td>\n",
       "      <td>71.0</td>\n",
       "      <td>None</td>\n",
       "      <td>malamute</td>\n",
       "    </tr>\n",
       "    <tr>\n",
       "      <th>2149</th>\n",
       "      <td>666345417576210432</td>\n",
       "      <td>-1</td>\n",
       "      <td>-1</td>\n",
       "      <td>1447704102000000000</td>\n",
       "      <td>Twitter for iPhone</td>\n",
       "      <td>Look at this jokester thinking seat belt laws ...</td>\n",
       "      <td>https://twitter.com/dog_rates/status/666345417...</td>\n",
       "      <td>10</td>\n",
       "      <td>10</td>\n",
       "      <td>None</td>\n",
       "      <td>290.0</td>\n",
       "      <td>133.0</td>\n",
       "      <td>None</td>\n",
       "      <td>golden_retriever</td>\n",
       "    </tr>\n",
       "    <tr>\n",
       "      <th>2150</th>\n",
       "      <td>666337882303524864</td>\n",
       "      <td>-1</td>\n",
       "      <td>-1</td>\n",
       "      <td>1447702305000000000</td>\n",
       "      <td>Twitter for iPhone</td>\n",
       "      <td>This is an extremely rare horned Parthenon. No...</td>\n",
       "      <td>https://twitter.com/dog_rates/status/666337882...</td>\n",
       "      <td>9</td>\n",
       "      <td>10</td>\n",
       "      <td>None</td>\n",
       "      <td>196.0</td>\n",
       "      <td>90.0</td>\n",
       "      <td>None</td>\n",
       "      <td>Newfoundland</td>\n",
       "    </tr>\n",
       "    <tr>\n",
       "      <th>2151</th>\n",
       "      <td>666293911632134144</td>\n",
       "      <td>-1</td>\n",
       "      <td>-1</td>\n",
       "      <td>1447691822000000000</td>\n",
       "      <td>Twitter for iPhone</td>\n",
       "      <td>This is a funny dog. Weird toes. Won't come do...</td>\n",
       "      <td>https://twitter.com/dog_rates/status/666293911...</td>\n",
       "      <td>3</td>\n",
       "      <td>10</td>\n",
       "      <td>None</td>\n",
       "      <td>494.0</td>\n",
       "      <td>352.0</td>\n",
       "      <td>None</td>\n",
       "      <td>None</td>\n",
       "    </tr>\n",
       "    <tr>\n",
       "      <th>2152</th>\n",
       "      <td>666287406224695296</td>\n",
       "      <td>-1</td>\n",
       "      <td>-1</td>\n",
       "      <td>1447690271000000000</td>\n",
       "      <td>Twitter for iPhone</td>\n",
       "      <td>This is an Albanian 3 1/2 legged  Episcopalian...</td>\n",
       "      <td>https://twitter.com/dog_rates/status/666287406...</td>\n",
       "      <td>1</td>\n",
       "      <td>2</td>\n",
       "      <td>None</td>\n",
       "      <td>146.0</td>\n",
       "      <td>64.0</td>\n",
       "      <td>None</td>\n",
       "      <td>Maltese_dog</td>\n",
       "    </tr>\n",
       "    <tr>\n",
       "      <th>2153</th>\n",
       "      <td>666273097616637952</td>\n",
       "      <td>-1</td>\n",
       "      <td>-1</td>\n",
       "      <td>1447686859000000000</td>\n",
       "      <td>Twitter for iPhone</td>\n",
       "      <td>Can take selfies 11/10 https://t.co/ws2AMaNwPW</td>\n",
       "      <td>https://twitter.com/dog_rates/status/666273097...</td>\n",
       "      <td>11</td>\n",
       "      <td>10</td>\n",
       "      <td>None</td>\n",
       "      <td>174.0</td>\n",
       "      <td>76.0</td>\n",
       "      <td>None</td>\n",
       "      <td>Italian_greyhound</td>\n",
       "    </tr>\n",
       "    <tr>\n",
       "      <th>2154</th>\n",
       "      <td>666268910803644416</td>\n",
       "      <td>-1</td>\n",
       "      <td>-1</td>\n",
       "      <td>1447685861000000000</td>\n",
       "      <td>Twitter for iPhone</td>\n",
       "      <td>Very concerned about fellow dog trapped in com...</td>\n",
       "      <td>https://twitter.com/dog_rates/status/666268910...</td>\n",
       "      <td>10</td>\n",
       "      <td>10</td>\n",
       "      <td>None</td>\n",
       "      <td>102.0</td>\n",
       "      <td>35.0</td>\n",
       "      <td>None</td>\n",
       "      <td>None</td>\n",
       "    </tr>\n",
       "    <tr>\n",
       "      <th>2155</th>\n",
       "      <td>666104133288665088</td>\n",
       "      <td>-1</td>\n",
       "      <td>-1</td>\n",
       "      <td>1447646575000000000</td>\n",
       "      <td>Twitter for iPhone</td>\n",
       "      <td>Not familiar with this breed. No tail (weird)....</td>\n",
       "      <td>https://twitter.com/dog_rates/status/666104133...</td>\n",
       "      <td>1</td>\n",
       "      <td>10</td>\n",
       "      <td>None</td>\n",
       "      <td>14167.0</td>\n",
       "      <td>6485.0</td>\n",
       "      <td>None</td>\n",
       "      <td>None</td>\n",
       "    </tr>\n",
       "    <tr>\n",
       "      <th>2156</th>\n",
       "      <td>666102155909144576</td>\n",
       "      <td>-1</td>\n",
       "      <td>-1</td>\n",
       "      <td>1447646104000000000</td>\n",
       "      <td>Twitter for iPhone</td>\n",
       "      <td>Oh my. Here you are seeing an Adobe Setter giv...</td>\n",
       "      <td>https://twitter.com/dog_rates/status/666102155...</td>\n",
       "      <td>11</td>\n",
       "      <td>10</td>\n",
       "      <td>None</td>\n",
       "      <td>80.0</td>\n",
       "      <td>12.0</td>\n",
       "      <td>None</td>\n",
       "      <td>English_setter</td>\n",
       "    </tr>\n",
       "    <tr>\n",
       "      <th>2157</th>\n",
       "      <td>666099513787052032</td>\n",
       "      <td>-1</td>\n",
       "      <td>-1</td>\n",
       "      <td>1447645474000000000</td>\n",
       "      <td>Twitter for iPhone</td>\n",
       "      <td>Can stand on stump for what seems like a while...</td>\n",
       "      <td>https://twitter.com/dog_rates/status/666099513...</td>\n",
       "      <td>8</td>\n",
       "      <td>10</td>\n",
       "      <td>None</td>\n",
       "      <td>153.0</td>\n",
       "      <td>67.0</td>\n",
       "      <td>None</td>\n",
       "      <td>Lhasa</td>\n",
       "    </tr>\n",
       "    <tr>\n",
       "      <th>2158</th>\n",
       "      <td>666094000022159362</td>\n",
       "      <td>-1</td>\n",
       "      <td>-1</td>\n",
       "      <td>1447644159000000000</td>\n",
       "      <td>Twitter for iPhone</td>\n",
       "      <td>This appears to be a Mongolian Presbyterian mi...</td>\n",
       "      <td>https://twitter.com/dog_rates/status/666094000...</td>\n",
       "      <td>9</td>\n",
       "      <td>10</td>\n",
       "      <td>None</td>\n",
       "      <td>NaN</td>\n",
       "      <td>NaN</td>\n",
       "      <td>None</td>\n",
       "      <td>bloodhound</td>\n",
       "    </tr>\n",
       "    <tr>\n",
       "      <th>2159</th>\n",
       "      <td>666082916733198337</td>\n",
       "      <td>-1</td>\n",
       "      <td>-1</td>\n",
       "      <td>1447641517000000000</td>\n",
       "      <td>Twitter for iPhone</td>\n",
       "      <td>Here we have a well-established sunblockerspan...</td>\n",
       "      <td>https://twitter.com/dog_rates/status/666082916...</td>\n",
       "      <td>6</td>\n",
       "      <td>10</td>\n",
       "      <td>None</td>\n",
       "      <td>NaN</td>\n",
       "      <td>NaN</td>\n",
       "      <td>None</td>\n",
       "      <td>pug</td>\n",
       "    </tr>\n",
       "    <tr>\n",
       "      <th>2160</th>\n",
       "      <td>666073100786774016</td>\n",
       "      <td>-1</td>\n",
       "      <td>-1</td>\n",
       "      <td>1447639176000000000</td>\n",
       "      <td>Twitter for iPhone</td>\n",
       "      <td>Let's hope this flight isn't Malaysian (lol). ...</td>\n",
       "      <td>https://twitter.com/dog_rates/status/666073100...</td>\n",
       "      <td>10</td>\n",
       "      <td>10</td>\n",
       "      <td>None</td>\n",
       "      <td>318.0</td>\n",
       "      <td>162.0</td>\n",
       "      <td>None</td>\n",
       "      <td>Walker_hound</td>\n",
       "    </tr>\n",
       "    <tr>\n",
       "      <th>2161</th>\n",
       "      <td>666071193221509120</td>\n",
       "      <td>-1</td>\n",
       "      <td>-1</td>\n",
       "      <td>1447638722000000000</td>\n",
       "      <td>Twitter for iPhone</td>\n",
       "      <td>Here we have a northern speckled Rhododendron....</td>\n",
       "      <td>https://twitter.com/dog_rates/status/666071193...</td>\n",
       "      <td>9</td>\n",
       "      <td>10</td>\n",
       "      <td>None</td>\n",
       "      <td>144.0</td>\n",
       "      <td>59.0</td>\n",
       "      <td>None</td>\n",
       "      <td>Gordon_setter</td>\n",
       "    </tr>\n",
       "    <tr>\n",
       "      <th>2162</th>\n",
       "      <td>666063827256086533</td>\n",
       "      <td>-1</td>\n",
       "      <td>-1</td>\n",
       "      <td>1447636965000000000</td>\n",
       "      <td>Twitter for iPhone</td>\n",
       "      <td>This is the happiest dog you will ever see. Ve...</td>\n",
       "      <td>https://twitter.com/dog_rates/status/666063827...</td>\n",
       "      <td>10</td>\n",
       "      <td>10</td>\n",
       "      <td>None</td>\n",
       "      <td>NaN</td>\n",
       "      <td>NaN</td>\n",
       "      <td>None</td>\n",
       "      <td>golden_retriever</td>\n",
       "    </tr>\n",
       "    <tr>\n",
       "      <th>2163</th>\n",
       "      <td>666058600524156928</td>\n",
       "      <td>-1</td>\n",
       "      <td>-1</td>\n",
       "      <td>1447635719000000000</td>\n",
       "      <td>Twitter for iPhone</td>\n",
       "      <td>Here is the Rand Paul of retrievers folks! He'...</td>\n",
       "      <td>https://twitter.com/dog_rates/status/666058600...</td>\n",
       "      <td>8</td>\n",
       "      <td>10</td>\n",
       "      <td>None</td>\n",
       "      <td>111.0</td>\n",
       "      <td>57.0</td>\n",
       "      <td>None</td>\n",
       "      <td>miniature_poodle</td>\n",
       "    </tr>\n",
       "    <tr>\n",
       "      <th>2164</th>\n",
       "      <td>666057090499244032</td>\n",
       "      <td>-1</td>\n",
       "      <td>-1</td>\n",
       "      <td>1447635359000000000</td>\n",
       "      <td>Twitter for iPhone</td>\n",
       "      <td>My oh my. This is a rare blond Canadian terrie...</td>\n",
       "      <td>https://twitter.com/dog_rates/status/666057090...</td>\n",
       "      <td>9</td>\n",
       "      <td>10</td>\n",
       "      <td>None</td>\n",
       "      <td>294.0</td>\n",
       "      <td>141.0</td>\n",
       "      <td>None</td>\n",
       "      <td>golden_retriever</td>\n",
       "    </tr>\n",
       "    <tr>\n",
       "      <th>2165</th>\n",
       "      <td>666055525042405380</td>\n",
       "      <td>-1</td>\n",
       "      <td>-1</td>\n",
       "      <td>1447634986000000000</td>\n",
       "      <td>Twitter for iPhone</td>\n",
       "      <td>Here is a Siberian heavily armored polar bear ...</td>\n",
       "      <td>https://twitter.com/dog_rates/status/666055525...</td>\n",
       "      <td>10</td>\n",
       "      <td>10</td>\n",
       "      <td>None</td>\n",
       "      <td>NaN</td>\n",
       "      <td>NaN</td>\n",
       "      <td>None</td>\n",
       "      <td>chow</td>\n",
       "    </tr>\n",
       "    <tr>\n",
       "      <th>2166</th>\n",
       "      <td>666051853826850816</td>\n",
       "      <td>-1</td>\n",
       "      <td>-1</td>\n",
       "      <td>1447634111000000000</td>\n",
       "      <td>Twitter for iPhone</td>\n",
       "      <td>This is an odd dog. Hard on the outside but lo...</td>\n",
       "      <td>https://twitter.com/dog_rates/status/666051853...</td>\n",
       "      <td>2</td>\n",
       "      <td>10</td>\n",
       "      <td>None</td>\n",
       "      <td>1207.0</td>\n",
       "      <td>841.0</td>\n",
       "      <td>None</td>\n",
       "      <td>None</td>\n",
       "    </tr>\n",
       "    <tr>\n",
       "      <th>2167</th>\n",
       "      <td>666050758794694657</td>\n",
       "      <td>-1</td>\n",
       "      <td>-1</td>\n",
       "      <td>1447633850000000000</td>\n",
       "      <td>Twitter for iPhone</td>\n",
       "      <td>This is a truly beautiful English Wilson Staff...</td>\n",
       "      <td>https://twitter.com/dog_rates/status/666050758...</td>\n",
       "      <td>10</td>\n",
       "      <td>10</td>\n",
       "      <td>None</td>\n",
       "      <td>NaN</td>\n",
       "      <td>NaN</td>\n",
       "      <td>None</td>\n",
       "      <td>Bernese_mountain_dog</td>\n",
       "    </tr>\n",
       "    <tr>\n",
       "      <th>2168</th>\n",
       "      <td>666049248165822465</td>\n",
       "      <td>-1</td>\n",
       "      <td>-1</td>\n",
       "      <td>1447633490000000000</td>\n",
       "      <td>Twitter for iPhone</td>\n",
       "      <td>Here we have a 1949 1st generation vulpix. Enj...</td>\n",
       "      <td>https://twitter.com/dog_rates/status/666049248...</td>\n",
       "      <td>5</td>\n",
       "      <td>10</td>\n",
       "      <td>None</td>\n",
       "      <td>NaN</td>\n",
       "      <td>NaN</td>\n",
       "      <td>None</td>\n",
       "      <td>miniature_pinscher</td>\n",
       "    </tr>\n",
       "    <tr>\n",
       "      <th>2169</th>\n",
       "      <td>666044226329800704</td>\n",
       "      <td>-1</td>\n",
       "      <td>-1</td>\n",
       "      <td>1447632292000000000</td>\n",
       "      <td>Twitter for iPhone</td>\n",
       "      <td>This is a purebred Piers Morgan. Loves to Netf...</td>\n",
       "      <td>https://twitter.com/dog_rates/status/666044226...</td>\n",
       "      <td>6</td>\n",
       "      <td>10</td>\n",
       "      <td>None</td>\n",
       "      <td>295.0</td>\n",
       "      <td>139.0</td>\n",
       "      <td>None</td>\n",
       "      <td>Rhodesian_ridgeback</td>\n",
       "    </tr>\n",
       "    <tr>\n",
       "      <th>2170</th>\n",
       "      <td>666033412701032449</td>\n",
       "      <td>-1</td>\n",
       "      <td>-1</td>\n",
       "      <td>1447629714000000000</td>\n",
       "      <td>Twitter for iPhone</td>\n",
       "      <td>Here is a very happy pup. Big fan of well-main...</td>\n",
       "      <td>https://twitter.com/dog_rates/status/666033412...</td>\n",
       "      <td>9</td>\n",
       "      <td>10</td>\n",
       "      <td>None</td>\n",
       "      <td>NaN</td>\n",
       "      <td>NaN</td>\n",
       "      <td>None</td>\n",
       "      <td>German_shepherd</td>\n",
       "    </tr>\n",
       "    <tr>\n",
       "      <th>2171</th>\n",
       "      <td>666029285002620928</td>\n",
       "      <td>-1</td>\n",
       "      <td>-1</td>\n",
       "      <td>1447628730000000000</td>\n",
       "      <td>Twitter for iPhone</td>\n",
       "      <td>This is a western brown Mitsubishi terrier. Up...</td>\n",
       "      <td>https://twitter.com/dog_rates/status/666029285...</td>\n",
       "      <td>7</td>\n",
       "      <td>10</td>\n",
       "      <td>None</td>\n",
       "      <td>129.0</td>\n",
       "      <td>47.0</td>\n",
       "      <td>None</td>\n",
       "      <td>redbone</td>\n",
       "    </tr>\n",
       "    <tr>\n",
       "      <th>2172</th>\n",
       "      <td>666020888022790149</td>\n",
       "      <td>-1</td>\n",
       "      <td>-1</td>\n",
       "      <td>1447626728000000000</td>\n",
       "      <td>Twitter for iPhone</td>\n",
       "      <td>Here we have a Japanese Irish Setter. Lost eye...</td>\n",
       "      <td>https://twitter.com/dog_rates/status/666020888...</td>\n",
       "      <td>8</td>\n",
       "      <td>10</td>\n",
       "      <td>None</td>\n",
       "      <td>NaN</td>\n",
       "      <td>NaN</td>\n",
       "      <td>None</td>\n",
       "      <td>Welsh_springer_spaniel</td>\n",
       "    </tr>\n",
       "  </tbody>\n",
       "</table>\n",
       "<p>2173 rows × 14 columns</p>\n",
       "</div>"
      ],
      "text/plain": [
       "                tweet_id  in_reply_to_status_id  in_reply_to_user_id  \\\n",
       "0     892420643555336193                     -1                   -1   \n",
       "1     892177421306343426                     -1                   -1   \n",
       "2     891815181378084864                     -1                   -1   \n",
       "3     891689557279858688                     -1                   -1   \n",
       "4     891327558926688256                     -1                   -1   \n",
       "5     891087950875897856                     -1                   -1   \n",
       "6     890971913173991426                     -1                   -1   \n",
       "7     890729181411237888                     -1                   -1   \n",
       "8     890609185150312448                     -1                   -1   \n",
       "9     890240255349198849                     -1                   -1   \n",
       "10    890006608113172480                     -1                   -1   \n",
       "11    889880896479866881                     -1                   -1   \n",
       "12    889665388333682689                     -1                   -1   \n",
       "13    889638837579907072                     -1                   -1   \n",
       "14    889531135344209921                     -1                   -1   \n",
       "15    889278841981685760                     -1                   -1   \n",
       "16    888917238123831296                     -1                   -1   \n",
       "17    888804989199671297                     -1                   -1   \n",
       "18    888554962724278272                     -1                   -1   \n",
       "19    888078434458587136                     -1                   -1   \n",
       "20    887705289381826560                     -1                   -1   \n",
       "21    887517139158093824                     -1                   -1   \n",
       "22    887473957103951883                     -1                   -1   \n",
       "23    887343217045368832                     -1                   -1   \n",
       "24    887101392804085760                     -1                   -1   \n",
       "25    886983233522544640                     -1                   -1   \n",
       "26    886736880519319552                     -1                   -1   \n",
       "27    886680336477933568                     -1                   -1   \n",
       "28    886366144734445568                     -1                   -1   \n",
       "29    886267009285017600     886266357075128320           2281181600   \n",
       "...                  ...                    ...                  ...   \n",
       "2143  666411507551481857                     -1                   -1   \n",
       "2144  666407126856765440                     -1                   -1   \n",
       "2145  666396247373291520                     -1                   -1   \n",
       "2146  666373753744588802                     -1                   -1   \n",
       "2147  666362758909284353                     -1                   -1   \n",
       "2148  666353288456101888                     -1                   -1   \n",
       "2149  666345417576210432                     -1                   -1   \n",
       "2150  666337882303524864                     -1                   -1   \n",
       "2151  666293911632134144                     -1                   -1   \n",
       "2152  666287406224695296                     -1                   -1   \n",
       "2153  666273097616637952                     -1                   -1   \n",
       "2154  666268910803644416                     -1                   -1   \n",
       "2155  666104133288665088                     -1                   -1   \n",
       "2156  666102155909144576                     -1                   -1   \n",
       "2157  666099513787052032                     -1                   -1   \n",
       "2158  666094000022159362                     -1                   -1   \n",
       "2159  666082916733198337                     -1                   -1   \n",
       "2160  666073100786774016                     -1                   -1   \n",
       "2161  666071193221509120                     -1                   -1   \n",
       "2162  666063827256086533                     -1                   -1   \n",
       "2163  666058600524156928                     -1                   -1   \n",
       "2164  666057090499244032                     -1                   -1   \n",
       "2165  666055525042405380                     -1                   -1   \n",
       "2166  666051853826850816                     -1                   -1   \n",
       "2167  666050758794694657                     -1                   -1   \n",
       "2168  666049248165822465                     -1                   -1   \n",
       "2169  666044226329800704                     -1                   -1   \n",
       "2170  666033412701032449                     -1                   -1   \n",
       "2171  666029285002620928                     -1                   -1   \n",
       "2172  666020888022790149                     -1                   -1   \n",
       "\n",
       "                timestamp              source  \\\n",
       "0     1501604636000000000  Twitter for iPhone   \n",
       "1     1501546647000000000  Twitter for iPhone   \n",
       "2     1501460283000000000  Twitter for iPhone   \n",
       "3     1501430331000000000  Twitter for iPhone   \n",
       "4     1501344024000000000  Twitter for iPhone   \n",
       "5     1501286897000000000  Twitter for iPhone   \n",
       "6     1501259232000000000  Twitter for iPhone   \n",
       "7     1501201360000000000  Twitter for iPhone   \n",
       "8     1501172751000000000  Twitter for iPhone   \n",
       "9     1501084791000000000  Twitter for iPhone   \n",
       "10    1501029085000000000  Twitter for iPhone   \n",
       "11    1500999113000000000  Twitter for iPhone   \n",
       "12    1500947732000000000  Twitter for iPhone   \n",
       "13    1500941402000000000  Twitter for iPhone   \n",
       "14    1500915724000000000  Twitter for iPhone   \n",
       "15    1500855572000000000  Twitter for iPhone   \n",
       "16    1500769359000000000  Twitter for iPhone   \n",
       "17    1500742597000000000  Twitter for iPhone   \n",
       "18    1500682986000000000  Twitter for iPhone   \n",
       "19    1500569373000000000  Twitter for iPhone   \n",
       "20    1500480408000000000  Twitter for iPhone   \n",
       "21    1500435549000000000  Twitter for iPhone   \n",
       "22    1500425254000000000  Twitter for iPhone   \n",
       "23    1500394083000000000  Twitter for iPhone   \n",
       "24    1500336428000000000  Twitter for iPhone   \n",
       "25    1500308256000000000  Twitter for iPhone   \n",
       "26    1500249521000000000  Twitter for iPhone   \n",
       "27    1500236040000000000  Twitter for iPhone   \n",
       "28    1500161131000000000  Twitter for iPhone   \n",
       "29    1500137495000000000  Twitter for iPhone   \n",
       "...                   ...                 ...   \n",
       "2143  1447719859000000000  Twitter for iPhone   \n",
       "2144  1447718814000000000  Twitter for iPhone   \n",
       "2145  1447716221000000000  Twitter for iPhone   \n",
       "2146  1447710858000000000  Twitter for iPhone   \n",
       "2147  1447708236000000000  Twitter for iPhone   \n",
       "2148  1447705978000000000  Twitter for iPhone   \n",
       "2149  1447704102000000000  Twitter for iPhone   \n",
       "2150  1447702305000000000  Twitter for iPhone   \n",
       "2151  1447691822000000000  Twitter for iPhone   \n",
       "2152  1447690271000000000  Twitter for iPhone   \n",
       "2153  1447686859000000000  Twitter for iPhone   \n",
       "2154  1447685861000000000  Twitter for iPhone   \n",
       "2155  1447646575000000000  Twitter for iPhone   \n",
       "2156  1447646104000000000  Twitter for iPhone   \n",
       "2157  1447645474000000000  Twitter for iPhone   \n",
       "2158  1447644159000000000  Twitter for iPhone   \n",
       "2159  1447641517000000000  Twitter for iPhone   \n",
       "2160  1447639176000000000  Twitter for iPhone   \n",
       "2161  1447638722000000000  Twitter for iPhone   \n",
       "2162  1447636965000000000  Twitter for iPhone   \n",
       "2163  1447635719000000000  Twitter for iPhone   \n",
       "2164  1447635359000000000  Twitter for iPhone   \n",
       "2165  1447634986000000000  Twitter for iPhone   \n",
       "2166  1447634111000000000  Twitter for iPhone   \n",
       "2167  1447633850000000000  Twitter for iPhone   \n",
       "2168  1447633490000000000  Twitter for iPhone   \n",
       "2169  1447632292000000000  Twitter for iPhone   \n",
       "2170  1447629714000000000  Twitter for iPhone   \n",
       "2171  1447628730000000000  Twitter for iPhone   \n",
       "2172  1447626728000000000  Twitter for iPhone   \n",
       "\n",
       "                                                   text  \\\n",
       "0     This is Phineas. He's a mystical boy. Only eve...   \n",
       "1     This is Tilly. She's just checking pup on you....   \n",
       "2     This is Archie. He is a rare Norwegian Pouncin...   \n",
       "3     This is Darla. She commenced a snooze mid meal...   \n",
       "4     This is Franklin. He would like you to stop ca...   \n",
       "5     Here we have a majestic great white breaching ...   \n",
       "6     Meet Jax. He enjoys ice cream so much he gets ...   \n",
       "7     When you watch your owner call another dog a g...   \n",
       "8     This is Zoey. She doesn't want to be one of th...   \n",
       "9     This is Cassie. She is a college pup. Studying...   \n",
       "10    This is Koda. He is a South Australian decksha...   \n",
       "11    This is Bruno. He is a service shark. Only get...   \n",
       "12    Here's a puppo that seems to be on the fence a...   \n",
       "13    This is Ted. He does his best. Sometimes that'...   \n",
       "14    This is Stuart. He's sporting his favorite fan...   \n",
       "15    This is Oliver. You're witnessing one of his m...   \n",
       "16    This is Jim. He found a fren. Taught him how t...   \n",
       "17    This is Zeke. He has a new stick. Very proud o...   \n",
       "18    This is Ralphus. He's powering up. Attempting ...   \n",
       "19    This is Gerald. He was just told he didn't get...   \n",
       "20    This is Jeffrey. He has a monopoly on the pool...   \n",
       "21    I've yet to rate a Venezuelan Hover Wiener. Th...   \n",
       "22    This is Canela. She attempted some fancy porch...   \n",
       "23    You may not have known you needed to see this ...   \n",
       "24    This... is a Jubilant Antarctic House Bear. We...   \n",
       "25    This is Maya. She's very shy. Rarely leaves he...   \n",
       "26    This is Mingus. He's a wonderful father to his...   \n",
       "27    This is Derek. He's late for a dog meeting. 13...   \n",
       "28    This is Roscoe. Another pupper fallen victim t...   \n",
       "29    @NonWhiteHat @MayhewMayhem omg hello tanner yo...   \n",
       "...                                                 ...   \n",
       "2143  This is quite the dog. Gets really excited whe...   \n",
       "2144  This is a southern Vesuvius bumblegruff. Can d...   \n",
       "2145  Oh goodness. A super rare northeast Qdoba kang...   \n",
       "2146  Those are sunglasses and a jean jacket. 11/10 ...   \n",
       "2147  Unique dog here. Very small. Lives in containe...   \n",
       "2148  Here we have a mixed Asiago from the Galápagos...   \n",
       "2149  Look at this jokester thinking seat belt laws ...   \n",
       "2150  This is an extremely rare horned Parthenon. No...   \n",
       "2151  This is a funny dog. Weird toes. Won't come do...   \n",
       "2152  This is an Albanian 3 1/2 legged  Episcopalian...   \n",
       "2153     Can take selfies 11/10 https://t.co/ws2AMaNwPW   \n",
       "2154  Very concerned about fellow dog trapped in com...   \n",
       "2155  Not familiar with this breed. No tail (weird)....   \n",
       "2156  Oh my. Here you are seeing an Adobe Setter giv...   \n",
       "2157  Can stand on stump for what seems like a while...   \n",
       "2158  This appears to be a Mongolian Presbyterian mi...   \n",
       "2159  Here we have a well-established sunblockerspan...   \n",
       "2160  Let's hope this flight isn't Malaysian (lol). ...   \n",
       "2161  Here we have a northern speckled Rhododendron....   \n",
       "2162  This is the happiest dog you will ever see. Ve...   \n",
       "2163  Here is the Rand Paul of retrievers folks! He'...   \n",
       "2164  My oh my. This is a rare blond Canadian terrie...   \n",
       "2165  Here is a Siberian heavily armored polar bear ...   \n",
       "2166  This is an odd dog. Hard on the outside but lo...   \n",
       "2167  This is a truly beautiful English Wilson Staff...   \n",
       "2168  Here we have a 1949 1st generation vulpix. Enj...   \n",
       "2169  This is a purebred Piers Morgan. Loves to Netf...   \n",
       "2170  Here is a very happy pup. Big fan of well-main...   \n",
       "2171  This is a western brown Mitsubishi terrier. Up...   \n",
       "2172  Here we have a Japanese Irish Setter. Lost eye...   \n",
       "\n",
       "                                          expanded_urls  rating_numerator  \\\n",
       "0     https://twitter.com/dog_rates/status/892420643...                13   \n",
       "1     https://twitter.com/dog_rates/status/892177421...                13   \n",
       "2     https://twitter.com/dog_rates/status/891815181...                12   \n",
       "3     https://twitter.com/dog_rates/status/891689557...                13   \n",
       "4     https://twitter.com/dog_rates/status/891327558...                12   \n",
       "5     https://twitter.com/dog_rates/status/891087950...                13   \n",
       "6     https://twitter.com/dog_rates/status/890971913...                13   \n",
       "7     https://twitter.com/dog_rates/status/890729181...                13   \n",
       "8     https://twitter.com/dog_rates/status/890609185...                13   \n",
       "9     https://twitter.com/dog_rates/status/890240255...                14   \n",
       "10    https://twitter.com/dog_rates/status/890006608...                13   \n",
       "11    https://twitter.com/dog_rates/status/889880896...                13   \n",
       "12    https://twitter.com/dog_rates/status/889665388...                13   \n",
       "13    https://twitter.com/dog_rates/status/889638837...                12   \n",
       "14    https://twitter.com/dog_rates/status/889531135...                13   \n",
       "15    https://twitter.com/dog_rates/status/889278841...                13   \n",
       "16    https://twitter.com/dog_rates/status/888917238...                12   \n",
       "17    https://twitter.com/dog_rates/status/888804989...                13   \n",
       "18    https://twitter.com/dog_rates/status/888554962...                13   \n",
       "19    https://twitter.com/dog_rates/status/888078434...                12   \n",
       "20    https://twitter.com/dog_rates/status/887705289...                13   \n",
       "21    https://twitter.com/dog_rates/status/887517139...                14   \n",
       "22    https://twitter.com/dog_rates/status/887473957...                13   \n",
       "23    https://twitter.com/dog_rates/status/887343217...                13   \n",
       "24    https://twitter.com/dog_rates/status/887101392...                12   \n",
       "25    https://twitter.com/dog_rates/status/886983233...                13   \n",
       "26    https://www.gofundme.com/mingusneedsus,https:/...                13   \n",
       "27    https://twitter.com/dog_rates/status/886680336...                13   \n",
       "28    https://twitter.com/dog_rates/status/886366144...                12   \n",
       "29                                                 None                12   \n",
       "...                                                 ...               ...   \n",
       "2143  https://twitter.com/dog_rates/status/666411507...                 2   \n",
       "2144  https://twitter.com/dog_rates/status/666407126...                 7   \n",
       "2145  https://twitter.com/dog_rates/status/666396247...                 9   \n",
       "2146  https://twitter.com/dog_rates/status/666373753...                11   \n",
       "2147  https://twitter.com/dog_rates/status/666362758...                 6   \n",
       "2148  https://twitter.com/dog_rates/status/666353288...                 8   \n",
       "2149  https://twitter.com/dog_rates/status/666345417...                10   \n",
       "2150  https://twitter.com/dog_rates/status/666337882...                 9   \n",
       "2151  https://twitter.com/dog_rates/status/666293911...                 3   \n",
       "2152  https://twitter.com/dog_rates/status/666287406...                 1   \n",
       "2153  https://twitter.com/dog_rates/status/666273097...                11   \n",
       "2154  https://twitter.com/dog_rates/status/666268910...                10   \n",
       "2155  https://twitter.com/dog_rates/status/666104133...                 1   \n",
       "2156  https://twitter.com/dog_rates/status/666102155...                11   \n",
       "2157  https://twitter.com/dog_rates/status/666099513...                 8   \n",
       "2158  https://twitter.com/dog_rates/status/666094000...                 9   \n",
       "2159  https://twitter.com/dog_rates/status/666082916...                 6   \n",
       "2160  https://twitter.com/dog_rates/status/666073100...                10   \n",
       "2161  https://twitter.com/dog_rates/status/666071193...                 9   \n",
       "2162  https://twitter.com/dog_rates/status/666063827...                10   \n",
       "2163  https://twitter.com/dog_rates/status/666058600...                 8   \n",
       "2164  https://twitter.com/dog_rates/status/666057090...                 9   \n",
       "2165  https://twitter.com/dog_rates/status/666055525...                10   \n",
       "2166  https://twitter.com/dog_rates/status/666051853...                 2   \n",
       "2167  https://twitter.com/dog_rates/status/666050758...                10   \n",
       "2168  https://twitter.com/dog_rates/status/666049248...                 5   \n",
       "2169  https://twitter.com/dog_rates/status/666044226...                 6   \n",
       "2170  https://twitter.com/dog_rates/status/666033412...                 9   \n",
       "2171  https://twitter.com/dog_rates/status/666029285...                 7   \n",
       "2172  https://twitter.com/dog_rates/status/666020888...                 8   \n",
       "\n",
       "      rating_denominator      name  favorite_count  retweet_count stage_dog  \\\n",
       "0                     10   Phineas             NaN            NaN      None   \n",
       "1                     10     Tilly             NaN            NaN      None   \n",
       "2                     10    Archie         24671.0         4090.0      None   \n",
       "3                     10     Darla         41545.0         8507.0      None   \n",
       "4                     10  Franklin         39726.0         9216.0      None   \n",
       "5                     10      None         19942.0         3064.0      None   \n",
       "6                     10       Jax             NaN            NaN      None   \n",
       "7                     10      None         64484.0        18578.0      None   \n",
       "8                     10      Zoey         27405.0         4206.0      None   \n",
       "9                     10    Cassie             NaN            NaN     doggo   \n",
       "10                    10      Koda         30238.0         7219.0      None   \n",
       "11                    10     Bruno             NaN            NaN      None   \n",
       "12                    10      None             NaN            NaN     puppo   \n",
       "13                    10       Ted         26780.0         4475.0      None   \n",
       "14                    10    Stuart             NaN            NaN     puppo   \n",
       "15                    10    Oliver         24891.0         5291.0      None   \n",
       "16                    10       Jim         28673.0         4422.0      None   \n",
       "17                    10      Zeke             NaN            NaN      None   \n",
       "18                    10   Ralphus         19547.0         3493.0      None   \n",
       "19                    10    Gerald         21448.0         3445.0      None   \n",
       "20                    10   Jeffrey         29746.0         5305.0      None   \n",
       "21                    10      None         45609.0        11491.0      None   \n",
       "22                    10    Canela             NaN            NaN      None   \n",
       "23                    10      None         33204.0        10246.0      None   \n",
       "24                    10      None         30134.0         5875.0      None   \n",
       "25                    10      Maya         34665.0         7656.0      None   \n",
       "26                    10    Mingus         11876.0         3232.0      None   \n",
       "27                    10     Derek         22117.0         4395.0      None   \n",
       "28                    10    Roscoe         20881.0         3152.0    pupper   \n",
       "29                    10      None             NaN            NaN      None   \n",
       "...                  ...       ...             ...            ...       ...   \n",
       "2143                  10      None             NaN            NaN      None   \n",
       "2144                  10      None           106.0           40.0      None   \n",
       "2145                  10      None           167.0           84.0      None   \n",
       "2146                  10      None             NaN            NaN      None   \n",
       "2147                  10      None             NaN            NaN      None   \n",
       "2148                  10      None           217.0           71.0      None   \n",
       "2149                  10      None           290.0          133.0      None   \n",
       "2150                  10      None           196.0           90.0      None   \n",
       "2151                  10      None           494.0          352.0      None   \n",
       "2152                   2      None           146.0           64.0      None   \n",
       "2153                  10      None           174.0           76.0      None   \n",
       "2154                  10      None           102.0           35.0      None   \n",
       "2155                  10      None         14167.0         6485.0      None   \n",
       "2156                  10      None            80.0           12.0      None   \n",
       "2157                  10      None           153.0           67.0      None   \n",
       "2158                  10      None             NaN            NaN      None   \n",
       "2159                  10      None             NaN            NaN      None   \n",
       "2160                  10      None           318.0          162.0      None   \n",
       "2161                  10      None           144.0           59.0      None   \n",
       "2162                  10      None             NaN            NaN      None   \n",
       "2163                  10      None           111.0           57.0      None   \n",
       "2164                  10      None           294.0          141.0      None   \n",
       "2165                  10      None             NaN            NaN      None   \n",
       "2166                  10      None          1207.0          841.0      None   \n",
       "2167                  10      None             NaN            NaN      None   \n",
       "2168                  10      None             NaN            NaN      None   \n",
       "2169                  10      None           295.0          139.0      None   \n",
       "2170                  10      None             NaN            NaN      None   \n",
       "2171                  10      None           129.0           47.0      None   \n",
       "2172                  10      None             NaN            NaN      None   \n",
       "\n",
       "                            breed  \n",
       "0                            None  \n",
       "1                       Chihuahua  \n",
       "2                       Chihuahua  \n",
       "3              Labrador_retriever  \n",
       "4                          basset  \n",
       "5        Chesapeake_Bay_retriever  \n",
       "6                     Appenzeller  \n",
       "7                      Pomeranian  \n",
       "8                   Irish_terrier  \n",
       "9                        Pembroke  \n",
       "10                        Samoyed  \n",
       "11                 French_bulldog  \n",
       "12                       Pembroke  \n",
       "13                 French_bulldog  \n",
       "14               golden_retriever  \n",
       "15                        whippet  \n",
       "16               golden_retriever  \n",
       "17               golden_retriever  \n",
       "18                 Siberian_husky  \n",
       "19                 French_bulldog  \n",
       "20                         basset  \n",
       "21                           None  \n",
       "22                       Pembroke  \n",
       "23               Mexican_hairless  \n",
       "24                        Samoyed  \n",
       "25                      Chihuahua  \n",
       "26                         kuvasz  \n",
       "27                           None  \n",
       "28                 French_bulldog  \n",
       "29                            NaN  \n",
       "...                           ...  \n",
       "2143                         None  \n",
       "2144      black-and-tan_coonhound  \n",
       "2145                    Chihuahua  \n",
       "2146  soft-coated_wheaten_terrier  \n",
       "2147                         None  \n",
       "2148                     malamute  \n",
       "2149             golden_retriever  \n",
       "2150                 Newfoundland  \n",
       "2151                         None  \n",
       "2152                  Maltese_dog  \n",
       "2153            Italian_greyhound  \n",
       "2154                         None  \n",
       "2155                         None  \n",
       "2156               English_setter  \n",
       "2157                        Lhasa  \n",
       "2158                   bloodhound  \n",
       "2159                          pug  \n",
       "2160                 Walker_hound  \n",
       "2161                Gordon_setter  \n",
       "2162             golden_retriever  \n",
       "2163             miniature_poodle  \n",
       "2164             golden_retriever  \n",
       "2165                         chow  \n",
       "2166                         None  \n",
       "2167         Bernese_mountain_dog  \n",
       "2168           miniature_pinscher  \n",
       "2169          Rhodesian_ridgeback  \n",
       "2170              German_shepherd  \n",
       "2171                      redbone  \n",
       "2172       Welsh_springer_spaniel  \n",
       "\n",
       "[2173 rows x 14 columns]"
      ]
     },
     "execution_count": 65,
     "metadata": {},
     "output_type": "execute_result"
    }
   ],
   "source": [
    "df_master"
   ]
  },
  {
   "cell_type": "markdown",
   "metadata": {},
   "source": [
    "## Save"
   ]
  },
  {
   "cell_type": "code",
   "execution_count": 67,
   "metadata": {},
   "outputs": [],
   "source": [
    "df_master.to_csv('../Results/twitter_archive_master.csv')"
   ]
  },
  {
   "cell_type": "markdown",
   "metadata": {},
   "source": [
    "## Analyze"
   ]
  },
  {
   "cell_type": "code",
   "execution_count": 71,
   "metadata": {},
   "outputs": [],
   "source": [
    "df_master_clean = df_master.copy()\n",
    "grade = []\n",
    "for key,row in df_master_clean.iterrows():\n",
    "    if(row.rating_numerator != None and row.rating_denominator != None and row.rating_denominator != 0):\n",
    "        grade.append(row.rating_numerator/row.rating_denominator)\n",
    "    else:\n",
    "        grade.append(None)\n",
    "df_master_clean['grade'] = grade"
   ]
  },
  {
   "cell_type": "markdown",
   "metadata": {},
   "source": [
    "## Media de favorite para cada estagio de cão"
   ]
  },
  {
   "cell_type": "code",
   "execution_count": 101,
   "metadata": {},
   "outputs": [
    {
     "name": "stdout",
     "output_type": "stream",
     "text": [
      "floofer: 5808.0\n",
      "doggo: 16032.64705882353\n",
      "pupper: 8110.243243243243\n",
      "puppo: 17346.75\n"
     ]
    }
   ],
   "source": [
    "favorite_stage = {'floofer':[],'doggo':[],'pupper':[],'puppo':[]}\n",
    "for key,row in df_master_clean.iterrows():\n",
    "    if(row.stage_dog != None and row.favorite_count > 0):\n",
    "        favorite_stage[row.stage_dog].append(row.favorite_count)\n",
    "print('floofer: '+str(sum(favorite_stage['floofer'])/len(favorite_stage['floofer'])))\n",
    "print('doggo: '+str(sum(favorite_stage['doggo'])/len(favorite_stage['doggo'])))\n",
    "print('pupper: '+str(sum(favorite_stage['pupper'])/len(favorite_stage['pupper'])))\n",
    "print('puppo: '+str(sum(favorite_stage['puppo'])/len(favorite_stage['puppo'])))"
   ]
  },
  {
   "cell_type": "markdown",
   "metadata": {},
   "source": [
    "#### Insight:\n",
    "Os cachorros classificados como doggo e puppo são os que conseguem mais favorite"
   ]
  },
  {
   "cell_type": "markdown",
   "metadata": {},
   "source": [
    "## Quais as raças de cachorro (top 5) que possuem maior quantidade de favorite"
   ]
  },
  {
   "cell_type": "code",
   "execution_count": null,
   "metadata": {},
   "outputs": [],
   "source": [
    "favorite_breed = {}\n",
    "for key,row in df_master_clean.iterrows():\n",
    "    if(row.breed != None and row.favorite_count > 0):\n",
    "        if(not(row.breed in favorite_breed)):\n",
    "            favorite_breed[row.breed] = []\n",
    "        favorite_breed[row.breed].append(row.favorite_count)\n",
    "print(favorite_breed)"
   ]
  },
  {
   "cell_type": "code",
   "execution_count": 105,
   "metadata": {},
   "outputs": [],
   "source": [
    "for breed in favorite_breed:\n",
    "    favorite_breed[breed] = sum(favorite_breed[breed])/len(favorite_breed[breed])"
   ]
  },
  {
   "cell_type": "code",
   "execution_count": 115,
   "metadata": {},
   "outputs": [
    {
     "data": {
      "text/plain": [
       "[('Mexican_hairless', 33204.0),\n",
       " ('Bedlington_terrier', 31851.0),\n",
       " ('Saluki', 31467.0),\n",
       " ('standard_poodle', 28038.5),\n",
       " ('Irish_water_spaniel', 24351.0),\n",
       " ('Norwich_terrier', 22780.5),\n",
       " ('French_bulldog', 20142.8125),\n",
       " ('whippet', 20129.333333333332),\n",
       " ('boxer', 19652.333333333332),\n",
       " ('Tibetan_mastiff', 19407.5),\n",
       " ('Australian_terrier', 19314.0),\n",
       " ('Border_terrier', 18970.0),\n",
       " ('flat-coated_retriever', 17966.0),\n",
       " ('malamute', 16749.76923076923),\n",
       " ('Afghan_hound', 16668.5),\n",
       " ('Blenheim_spaniel', 15934.5),\n",
       " ('basset', 15705.875),\n",
       " ('Samoyed', 15053.875),\n",
       " ('Cardigan', 15046.0),\n",
       " ('Great_Pyrenees', 14755.5),\n",
       " ('cocker_spaniel', 14130.142857142857),\n",
       " ('Chesapeake_Bay_retriever', 13906.4),\n",
       " ('golden_retriever', 13593.277108433735),\n",
       " ('cairn', 13398.0),\n",
       " ('Siberian_husky', 12904.857142857143),\n",
       " ('Labrador_retriever', 12477.125),\n",
       " ('briard', 12396.5),\n",
       " ('Brittany_spaniel', 12168.0),\n",
       " ('Pembroke', 12085.78431372549),\n",
       " ('Norwegian_elkhound', 11883.857142857143),\n",
       " ('bloodhound', 11830.0),\n",
       " ('Welsh_springer_spaniel', 11663.0),\n",
       " ('Leonberg', 11474.0),\n",
       " ('Border_collie', 10917.75),\n",
       " ('Chihuahua', 10311.027027027027),\n",
       " ('Rottweiler', 10090.714285714286),\n",
       " ('collie', 10049.75),\n",
       " ('Pekinese', 9906.714285714286),\n",
       " ('kelpie', 9817.6),\n",
       " ('chow', 9662.05),\n",
       " ('Eskimo_dog', 9535.0),\n",
       " ('Irish_setter', 9387.333333333334),\n",
       " ('Bernese_mountain_dog', 9283.166666666666),\n",
       " ('Boston_bull', 9261.0),\n",
       " ('German_shepherd', 9237.363636363636),\n",
       " ('giant_schnauzer', 9049.0),\n",
       " ('kuvasz', 8860.5),\n",
       " ('Pomeranian', 8794.466666666667),\n",
       " ('Great_Dane', 8712.5),\n",
       " ('Irish_terrier', 8704.75),\n",
       " ('Shetland_sheepdog', 8359.0),\n",
       " ('German_short-haired_pointer', 8317.666666666666),\n",
       " ('wire-haired_fox_terrier', 8206.5),\n",
       " ('bluetick', 8106.0),\n",
       " ('schipperke', 8067.333333333333),\n",
       " ('bull_mastiff', 8032.0),\n",
       " ('Yorkshire_terrier', 7211.333333333333),\n",
       " ('West_Highland_white_terrier', 7167.333333333333),\n",
       " ('Old_English_sheepdog', 7081.5),\n",
       " ('silky_terrier', 7062.0),\n",
       " ('clumber', 7026.0),\n",
       " ('Walker_hound', 6920.0),\n",
       " ('American_Staffordshire_terrier', 6735.333333333333),\n",
       " ('papillon', 6493.666666666667),\n",
       " ('dalmatian', 5949.25),\n",
       " ('vizsla', 5890.625),\n",
       " ('pug', 5871.518518518518),\n",
       " ('toy_poodle', 5807.0),\n",
       " ('Saint_Bernard', 5606.666666666667),\n",
       " ('malinois', 5493.0),\n",
       " ('Gordon_setter', 5300.75),\n",
       " ('Rhodesian_ridgeback', 5228.5),\n",
       " ('Airedale', 5100.375),\n",
       " ('Norfolk_terrier', 5041.0),\n",
       " ('Staffordshire_bullterrier', 5036.0),\n",
       " ('miniature_pinscher', 4812.5),\n",
       " ('beagle', 4404.0),\n",
       " ('komondor', 4399.0),\n",
       " ('Greater_Swiss_Mountain_dog', 4388.5),\n",
       " ('English_springer', 4373.333333333333),\n",
       " ('Sussex_spaniel', 3908.0),\n",
       " ('Doberman', 3819.3333333333335),\n",
       " ('Maltese_dog', 3777.3333333333335),\n",
       " ('miniature_poodle', 3772.0),\n",
       " ('Newfoundland', 3556.5),\n",
       " ('keeshond', 3441.5),\n",
       " ('miniature_schnauzer', 3396.5),\n",
       " ('Dandie_Dinmont', 3123.3333333333335),\n",
       " ('redbone', 2950.4),\n",
       " ('borzoi', 2887.5),\n",
       " ('Italian_greyhound', 2441.3333333333335),\n",
       " ('Lakeland_terrier', 2092.2),\n",
       " ('standard_schnauzer', 1958.0),\n",
       " ('Shih-Tzu', 1890.888888888889),\n",
       " ('English_setter', 1867.2),\n",
       " ('Lhasa', 1760.5),\n",
       " ('soft-coated_wheaten_terrier', 1576.0),\n",
       " ('basenji', 1538.0),\n",
       " ('Scottish_deerhound', 1523.5),\n",
       " ('Irish_wolfhound', 1475.0),\n",
       " ('Japanese_spaniel', 1298.0),\n",
       " ('Tibetan_terrier', 1249.5),\n",
       " ('Brabancon_griffon', 798.5),\n",
       " ('Ibizan_hound', 498.0),\n",
       " ('groenendael', 395.0),\n",
       " ('toy_terrier', 123.0),\n",
       " ('black-and-tan_coonhound', 106.0)]"
      ]
     },
     "execution_count": 115,
     "metadata": {},
     "output_type": "execute_result"
    }
   ],
   "source": [
    "sorted(favorite_breed.items(),key=itemgetter(1),reverse=True)"
   ]
  },
  {
   "cell_type": "markdown",
   "metadata": {},
   "source": [
    "#### A partir dos resultados poodemos ver que as raças que renderam mais favorite foram aquelas  mais exoticas"
   ]
  },
  {
   "cell_type": "markdown",
   "metadata": {},
   "source": [
    "## Quantidade de favorite para uma  determinada nota"
   ]
  },
  {
   "cell_type": "code",
   "execution_count": 139,
   "metadata": {},
   "outputs": [
    {
     "data": {
      "text/plain": [
       "<seaborn.axisgrid.FacetGrid at 0x7fa556eed780>"
      ]
     },
     "execution_count": 139,
     "metadata": {},
     "output_type": "execute_result"
    },
    {
     "data": {
      "image/png": "[encoded data removed]",
      "text/plain": [
       "<Figure size 720x360 with 1 Axes>"
      ]
     },
     "metadata": {},
     "output_type": "display_data"
    }
   ],
   "source": [
    "sns.lmplot('grade', 'favorite_count', data=df_master_clean, aspect=2, order=0.1)"
   ]
  },
  {
   "cell_type": "code",
   "execution_count": 138,
   "metadata": {},
   "outputs": [
    {
     "data": {
      "text/plain": [
       "<seaborn.axisgrid.FacetGrid at 0x7fa5572b1cf8>"
      ]
     },
     "execution_count": 138,
     "metadata": {},
     "output_type": "execute_result"
    },
    {
     "data": {
      "image/png": "[encoded data removed]",
      "text/plain": [
       "<Figure size 720x360 with 1 Axes>"
      ]
     },
     "metadata": {},
     "output_type": "display_data"
    }
   ],
   "source": [
    "sns.lmplot('grade', 'favorite_count', data=df_master_clean.loc[df_master_clean.grade <2], aspect=2, order=0.1)"
   ]
  },
  {
   "cell_type": "markdown",
   "metadata": {},
   "source": [
    "#### Retirando as notas muito altas podemos visualizar de forma clara que os tweets que possuem maiores notas tendem a ter mais favorite"
   ]
  },
  {
   "cell_type": "code",
   "execution_count": null,
   "metadata": {},
   "outputs": [],
   "source": []
  }
 ],
 "metadata": {
  "kernelspec": {
   "display_name": "Python 3",
   "language": "python",
   "name": "python3"
  },
  "language_info": {
   "codemirror_mode": {
    "name": "ipython",
    "version": 3
   },
   "file_extension": ".py",
   "mimetype": "text/x-python",
   "name": "python",
   "nbconvert_exporter": "python",
   "pygments_lexer": "ipython3",
   "version": "3.6.5"
  }
 },
 "nbformat": 4,
 "nbformat_minor": 2
}
